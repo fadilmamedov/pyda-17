{
 "cells": [
  {
   "cell_type": "code",
   "execution_count": 83,
   "metadata": {},
   "outputs": [],
   "source": [
    "import numpy as np\n",
    "import pandas as pd"
   ]
  },
  {
   "cell_type": "code",
   "execution_count": 271,
   "metadata": {},
   "outputs": [],
   "source": [
    "horse_data = pd.read_csv('horse_data.csv', na_values='?')"
   ]
  },
  {
   "cell_type": "code",
   "execution_count": 272,
   "metadata": {},
   "outputs": [
    {
     "data": {
      "text/html": [
       "<div>\n",
       "<style scoped>\n",
       "    .dataframe tbody tr th:only-of-type {\n",
       "        vertical-align: middle;\n",
       "    }\n",
       "\n",
       "    .dataframe tbody tr th {\n",
       "        vertical-align: top;\n",
       "    }\n",
       "\n",
       "    .dataframe thead th {\n",
       "        text-align: right;\n",
       "    }\n",
       "</style>\n",
       "<table border=\"1\" class=\"dataframe\">\n",
       "  <thead>\n",
       "    <tr style=\"text-align: right;\">\n",
       "      <th></th>\n",
       "      <th>2</th>\n",
       "      <th>1</th>\n",
       "      <th>530101</th>\n",
       "      <th>38.50</th>\n",
       "      <th>66</th>\n",
       "      <th>28</th>\n",
       "      <th>3</th>\n",
       "      <th>3.1</th>\n",
       "      <th>?</th>\n",
       "      <th>2.1</th>\n",
       "      <th>...</th>\n",
       "      <th>45.00</th>\n",
       "      <th>8.40</th>\n",
       "      <th>?.4</th>\n",
       "      <th>?.5</th>\n",
       "      <th>2.2</th>\n",
       "      <th>2.3</th>\n",
       "      <th>11300</th>\n",
       "      <th>00000</th>\n",
       "      <th>00000.1</th>\n",
       "      <th>2.4</th>\n",
       "    </tr>\n",
       "  </thead>\n",
       "  <tbody>\n",
       "    <tr>\n",
       "      <th>0</th>\n",
       "      <td>1.0</td>\n",
       "      <td>1</td>\n",
       "      <td>534817</td>\n",
       "      <td>39.2</td>\n",
       "      <td>88.0</td>\n",
       "      <td>20.0</td>\n",
       "      <td>NaN</td>\n",
       "      <td>NaN</td>\n",
       "      <td>4.0</td>\n",
       "      <td>1.0</td>\n",
       "      <td>...</td>\n",
       "      <td>50.0</td>\n",
       "      <td>85.0</td>\n",
       "      <td>2.0</td>\n",
       "      <td>2.0</td>\n",
       "      <td>3.0</td>\n",
       "      <td>2</td>\n",
       "      <td>2208</td>\n",
       "      <td>0</td>\n",
       "      <td>0</td>\n",
       "      <td>2</td>\n",
       "    </tr>\n",
       "    <tr>\n",
       "      <th>1</th>\n",
       "      <td>2.0</td>\n",
       "      <td>1</td>\n",
       "      <td>530334</td>\n",
       "      <td>38.3</td>\n",
       "      <td>40.0</td>\n",
       "      <td>24.0</td>\n",
       "      <td>1.0</td>\n",
       "      <td>1.0</td>\n",
       "      <td>3.0</td>\n",
       "      <td>1.0</td>\n",
       "      <td>...</td>\n",
       "      <td>33.0</td>\n",
       "      <td>6.7</td>\n",
       "      <td>NaN</td>\n",
       "      <td>NaN</td>\n",
       "      <td>1.0</td>\n",
       "      <td>2</td>\n",
       "      <td>0</td>\n",
       "      <td>0</td>\n",
       "      <td>0</td>\n",
       "      <td>1</td>\n",
       "    </tr>\n",
       "    <tr>\n",
       "      <th>2</th>\n",
       "      <td>1.0</td>\n",
       "      <td>9</td>\n",
       "      <td>5290409</td>\n",
       "      <td>39.1</td>\n",
       "      <td>164.0</td>\n",
       "      <td>84.0</td>\n",
       "      <td>4.0</td>\n",
       "      <td>1.0</td>\n",
       "      <td>6.0</td>\n",
       "      <td>2.0</td>\n",
       "      <td>...</td>\n",
       "      <td>48.0</td>\n",
       "      <td>7.2</td>\n",
       "      <td>3.0</td>\n",
       "      <td>5.3</td>\n",
       "      <td>2.0</td>\n",
       "      <td>1</td>\n",
       "      <td>2208</td>\n",
       "      <td>0</td>\n",
       "      <td>0</td>\n",
       "      <td>1</td>\n",
       "    </tr>\n",
       "    <tr>\n",
       "      <th>3</th>\n",
       "      <td>2.0</td>\n",
       "      <td>1</td>\n",
       "      <td>530255</td>\n",
       "      <td>37.3</td>\n",
       "      <td>104.0</td>\n",
       "      <td>35.0</td>\n",
       "      <td>NaN</td>\n",
       "      <td>NaN</td>\n",
       "      <td>6.0</td>\n",
       "      <td>2.0</td>\n",
       "      <td>...</td>\n",
       "      <td>74.0</td>\n",
       "      <td>7.4</td>\n",
       "      <td>NaN</td>\n",
       "      <td>NaN</td>\n",
       "      <td>2.0</td>\n",
       "      <td>2</td>\n",
       "      <td>4300</td>\n",
       "      <td>0</td>\n",
       "      <td>0</td>\n",
       "      <td>2</td>\n",
       "    </tr>\n",
       "    <tr>\n",
       "      <th>4</th>\n",
       "      <td>2.0</td>\n",
       "      <td>1</td>\n",
       "      <td>528355</td>\n",
       "      <td>NaN</td>\n",
       "      <td>NaN</td>\n",
       "      <td>NaN</td>\n",
       "      <td>2.0</td>\n",
       "      <td>1.0</td>\n",
       "      <td>3.0</td>\n",
       "      <td>1.0</td>\n",
       "      <td>...</td>\n",
       "      <td>NaN</td>\n",
       "      <td>NaN</td>\n",
       "      <td>NaN</td>\n",
       "      <td>NaN</td>\n",
       "      <td>1.0</td>\n",
       "      <td>2</td>\n",
       "      <td>0</td>\n",
       "      <td>0</td>\n",
       "      <td>0</td>\n",
       "      <td>2</td>\n",
       "    </tr>\n",
       "  </tbody>\n",
       "</table>\n",
       "<p>5 rows × 28 columns</p>\n",
       "</div>"
      ],
      "text/plain": [
       "     2  1   530101  38.50     66    28    3  3.1    ?  2.1  ...  45.00  8.40  \\\n",
       "0  1.0  1   534817   39.2   88.0  20.0  NaN  NaN  4.0  1.0  ...   50.0  85.0   \n",
       "1  2.0  1   530334   38.3   40.0  24.0  1.0  1.0  3.0  1.0  ...   33.0   6.7   \n",
       "2  1.0  9  5290409   39.1  164.0  84.0  4.0  1.0  6.0  2.0  ...   48.0   7.2   \n",
       "3  2.0  1   530255   37.3  104.0  35.0  NaN  NaN  6.0  2.0  ...   74.0   7.4   \n",
       "4  2.0  1   528355    NaN    NaN   NaN  2.0  1.0  3.0  1.0  ...    NaN   NaN   \n",
       "\n",
       "   ?.4  ?.5  2.2  2.3  11300  00000  00000.1  2.4  \n",
       "0  2.0  2.0  3.0    2   2208      0        0    2  \n",
       "1  NaN  NaN  1.0    2      0      0        0    1  \n",
       "2  3.0  5.3  2.0    1   2208      0        0    1  \n",
       "3  NaN  NaN  2.0    2   4300      0        0    2  \n",
       "4  NaN  NaN  1.0    2      0      0        0    2  \n",
       "\n",
       "[5 rows x 28 columns]"
      ]
     },
     "execution_count": 272,
     "metadata": {},
     "output_type": "execute_result"
    }
   ],
   "source": [
    "horse_data.head()"
   ]
  },
  {
   "cell_type": "code",
   "execution_count": 273,
   "metadata": {},
   "outputs": [],
   "source": [
    "horse_data.columns = [\n",
    "  'surgery',\n",
    "  'age',\n",
    "  'hospital_number',\n",
    "  'rectal_temp',\n",
    "  'pulse',\n",
    "  'respiratory_rate',\n",
    "  'temp_of_extremities',\n",
    "  'peripheral_pulse',\n",
    "  'mucous_membranes',\n",
    "  'capillary_refill_time',\n",
    "  'pain',\n",
    "  'peristalsis',\n",
    "  'abdominal_distension',\n",
    "  'nasogastric_tube',\n",
    "  'nasogastric_reflux',\n",
    "  'nasogastric_reflux_ph',\n",
    "  'rectal_examination_feces',\n",
    "  'abdomen',\n",
    "  'packed_cell_volume',\n",
    "  'total_protein',\n",
    "  'abdominocentesis_appearance',\n",
    "  'abdomcentesis_total_protein',\n",
    "  'outcome',\n",
    "  'surgical_lesion',\n",
    "  'lesion_1',\n",
    "  'lesion_2',\n",
    "  'lesion_3',\n",
    "  'cp_data'\n",
    "]"
   ]
  },
  {
   "cell_type": "code",
   "execution_count": 274,
   "metadata": {},
   "outputs": [],
   "source": [
    "horse_data = horse_data.astype({\n",
    "  'surgery': 'category',\n",
    "  'age': 'category',\n",
    "  'hospital_number': 'category',\n",
    "  'rectal_temp': 'float64',\n",
    "  'pulse': 'float64',\n",
    "  'respiratory_rate': 'float64',\n",
    "  'temp_of_extremities': 'category',\n",
    "  'peripheral_pulse': 'category',\n",
    "  'mucous_membranes': 'category',\n",
    "  'capillary_refill_time': 'category',\n",
    "  'pain': 'category',\n",
    "  'peristalsis': 'category',\n",
    "  'abdominal_distension': 'category',\n",
    "  'nasogastric_tube': 'category',\n",
    "  'nasogastric_reflux': 'category',\n",
    "  'nasogastric_reflux_ph': 'float64',\n",
    "  'rectal_examination_feces': 'category',\n",
    "  'abdomen': 'category',\n",
    "  'packed_cell_volume': 'float64',\n",
    "  'total_protein': 'float64',\n",
    "  'abdominocentesis_appearance': 'category',\n",
    "  'abdomcentesis_total_protein': 'float64',\n",
    "  'outcome': 'category',\n",
    "  'surgical_lesion': 'category',\n",
    "  'lesion_1': 'category',\n",
    "  'lesion_2': 'category',\n",
    "  'lesion_3': 'category',\n",
    "  'cp_data': 'category'\n",
    "})"
   ]
  },
  {
   "cell_type": "code",
   "execution_count": 275,
   "metadata": {},
   "outputs": [
    {
     "data": {
      "text/html": [
       "<div>\n",
       "<style scoped>\n",
       "    .dataframe tbody tr th:only-of-type {\n",
       "        vertical-align: middle;\n",
       "    }\n",
       "\n",
       "    .dataframe tbody tr th {\n",
       "        vertical-align: top;\n",
       "    }\n",
       "\n",
       "    .dataframe thead th {\n",
       "        text-align: right;\n",
       "    }\n",
       "</style>\n",
       "<table border=\"1\" class=\"dataframe\">\n",
       "  <thead>\n",
       "    <tr style=\"text-align: right;\">\n",
       "      <th></th>\n",
       "      <th>surgery</th>\n",
       "      <th>age</th>\n",
       "      <th>hospital_number</th>\n",
       "      <th>rectal_temp</th>\n",
       "      <th>pulse</th>\n",
       "      <th>respiratory_rate</th>\n",
       "      <th>temp_of_extremities</th>\n",
       "      <th>peripheral_pulse</th>\n",
       "      <th>mucous_membranes</th>\n",
       "      <th>capillary_refill_time</th>\n",
       "      <th>...</th>\n",
       "      <th>packed_cell_volume</th>\n",
       "      <th>total_protein</th>\n",
       "      <th>abdominocentesis_appearance</th>\n",
       "      <th>abdomcentesis_total_protein</th>\n",
       "      <th>outcome</th>\n",
       "      <th>surgical_lesion</th>\n",
       "      <th>lesion_1</th>\n",
       "      <th>lesion_2</th>\n",
       "      <th>lesion_3</th>\n",
       "      <th>cp_data</th>\n",
       "    </tr>\n",
       "  </thead>\n",
       "  <tbody>\n",
       "    <tr>\n",
       "      <th>0</th>\n",
       "      <td>1.0</td>\n",
       "      <td>1</td>\n",
       "      <td>534817</td>\n",
       "      <td>39.2</td>\n",
       "      <td>88.0</td>\n",
       "      <td>20.0</td>\n",
       "      <td>NaN</td>\n",
       "      <td>NaN</td>\n",
       "      <td>4.0</td>\n",
       "      <td>1.0</td>\n",
       "      <td>...</td>\n",
       "      <td>50.0</td>\n",
       "      <td>85.0</td>\n",
       "      <td>2.0</td>\n",
       "      <td>2.0</td>\n",
       "      <td>3.0</td>\n",
       "      <td>2</td>\n",
       "      <td>2208</td>\n",
       "      <td>0</td>\n",
       "      <td>0</td>\n",
       "      <td>2</td>\n",
       "    </tr>\n",
       "    <tr>\n",
       "      <th>1</th>\n",
       "      <td>2.0</td>\n",
       "      <td>1</td>\n",
       "      <td>530334</td>\n",
       "      <td>38.3</td>\n",
       "      <td>40.0</td>\n",
       "      <td>24.0</td>\n",
       "      <td>1.0</td>\n",
       "      <td>1.0</td>\n",
       "      <td>3.0</td>\n",
       "      <td>1.0</td>\n",
       "      <td>...</td>\n",
       "      <td>33.0</td>\n",
       "      <td>6.7</td>\n",
       "      <td>NaN</td>\n",
       "      <td>NaN</td>\n",
       "      <td>1.0</td>\n",
       "      <td>2</td>\n",
       "      <td>0</td>\n",
       "      <td>0</td>\n",
       "      <td>0</td>\n",
       "      <td>1</td>\n",
       "    </tr>\n",
       "    <tr>\n",
       "      <th>2</th>\n",
       "      <td>1.0</td>\n",
       "      <td>9</td>\n",
       "      <td>5290409</td>\n",
       "      <td>39.1</td>\n",
       "      <td>164.0</td>\n",
       "      <td>84.0</td>\n",
       "      <td>4.0</td>\n",
       "      <td>1.0</td>\n",
       "      <td>6.0</td>\n",
       "      <td>2.0</td>\n",
       "      <td>...</td>\n",
       "      <td>48.0</td>\n",
       "      <td>7.2</td>\n",
       "      <td>3.0</td>\n",
       "      <td>5.3</td>\n",
       "      <td>2.0</td>\n",
       "      <td>1</td>\n",
       "      <td>2208</td>\n",
       "      <td>0</td>\n",
       "      <td>0</td>\n",
       "      <td>1</td>\n",
       "    </tr>\n",
       "    <tr>\n",
       "      <th>3</th>\n",
       "      <td>2.0</td>\n",
       "      <td>1</td>\n",
       "      <td>530255</td>\n",
       "      <td>37.3</td>\n",
       "      <td>104.0</td>\n",
       "      <td>35.0</td>\n",
       "      <td>NaN</td>\n",
       "      <td>NaN</td>\n",
       "      <td>6.0</td>\n",
       "      <td>2.0</td>\n",
       "      <td>...</td>\n",
       "      <td>74.0</td>\n",
       "      <td>7.4</td>\n",
       "      <td>NaN</td>\n",
       "      <td>NaN</td>\n",
       "      <td>2.0</td>\n",
       "      <td>2</td>\n",
       "      <td>4300</td>\n",
       "      <td>0</td>\n",
       "      <td>0</td>\n",
       "      <td>2</td>\n",
       "    </tr>\n",
       "    <tr>\n",
       "      <th>4</th>\n",
       "      <td>2.0</td>\n",
       "      <td>1</td>\n",
       "      <td>528355</td>\n",
       "      <td>NaN</td>\n",
       "      <td>NaN</td>\n",
       "      <td>NaN</td>\n",
       "      <td>2.0</td>\n",
       "      <td>1.0</td>\n",
       "      <td>3.0</td>\n",
       "      <td>1.0</td>\n",
       "      <td>...</td>\n",
       "      <td>NaN</td>\n",
       "      <td>NaN</td>\n",
       "      <td>NaN</td>\n",
       "      <td>NaN</td>\n",
       "      <td>1.0</td>\n",
       "      <td>2</td>\n",
       "      <td>0</td>\n",
       "      <td>0</td>\n",
       "      <td>0</td>\n",
       "      <td>2</td>\n",
       "    </tr>\n",
       "  </tbody>\n",
       "</table>\n",
       "<p>5 rows × 28 columns</p>\n",
       "</div>"
      ],
      "text/plain": [
       "  surgery age hospital_number  rectal_temp  pulse  respiratory_rate  \\\n",
       "0     1.0   1          534817         39.2   88.0              20.0   \n",
       "1     2.0   1          530334         38.3   40.0              24.0   \n",
       "2     1.0   9         5290409         39.1  164.0              84.0   \n",
       "3     2.0   1          530255         37.3  104.0              35.0   \n",
       "4     2.0   1          528355          NaN    NaN               NaN   \n",
       "\n",
       "  temp_of_extremities peripheral_pulse mucous_membranes capillary_refill_time  \\\n",
       "0                 NaN              NaN              4.0                   1.0   \n",
       "1                 1.0              1.0              3.0                   1.0   \n",
       "2                 4.0              1.0              6.0                   2.0   \n",
       "3                 NaN              NaN              6.0                   2.0   \n",
       "4                 2.0              1.0              3.0                   1.0   \n",
       "\n",
       "   ... packed_cell_volume total_protein abdominocentesis_appearance  \\\n",
       "0  ...               50.0          85.0                         2.0   \n",
       "1  ...               33.0           6.7                         NaN   \n",
       "2  ...               48.0           7.2                         3.0   \n",
       "3  ...               74.0           7.4                         NaN   \n",
       "4  ...                NaN           NaN                         NaN   \n",
       "\n",
       "  abdomcentesis_total_protein outcome  surgical_lesion lesion_1 lesion_2  \\\n",
       "0                         2.0     3.0                2     2208        0   \n",
       "1                         NaN     1.0                2        0        0   \n",
       "2                         5.3     2.0                1     2208        0   \n",
       "3                         NaN     2.0                2     4300        0   \n",
       "4                         NaN     1.0                2        0        0   \n",
       "\n",
       "   lesion_3  cp_data  \n",
       "0         0        2  \n",
       "1         0        1  \n",
       "2         0        1  \n",
       "3         0        2  \n",
       "4         0        2  \n",
       "\n",
       "[5 rows x 28 columns]"
      ]
     },
     "execution_count": 275,
     "metadata": {},
     "output_type": "execute_result"
    }
   ],
   "source": [
    "horse_data.head()"
   ]
  },
  {
   "cell_type": "code",
   "execution_count": 276,
   "metadata": {},
   "outputs": [
    {
     "name": "stdout",
     "output_type": "stream",
     "text": [
      "<class 'pandas.core.frame.DataFrame'>\n",
      "RangeIndex: 299 entries, 0 to 298\n",
      "Data columns (total 28 columns):\n",
      " #   Column                       Non-Null Count  Dtype   \n",
      "---  ------                       --------------  -----   \n",
      " 0   surgery                      298 non-null    category\n",
      " 1   age                          299 non-null    category\n",
      " 2   hospital_number              299 non-null    category\n",
      " 3   rectal_temp                  239 non-null    float64 \n",
      " 4   pulse                        275 non-null    float64 \n",
      " 5   respiratory_rate             241 non-null    float64 \n",
      " 6   temp_of_extremities          243 non-null    category\n",
      " 7   peripheral_pulse             230 non-null    category\n",
      " 8   mucous_membranes             253 non-null    category\n",
      " 9   capillary_refill_time        267 non-null    category\n",
      " 10  pain                         244 non-null    category\n",
      " 11  peristalsis                  255 non-null    category\n",
      " 12  abdominal_distension         243 non-null    category\n",
      " 13  nasogastric_tube             196 non-null    category\n",
      " 14  nasogastric_reflux           194 non-null    category\n",
      " 15  nasogastric_reflux_ph        53 non-null     float64 \n",
      " 16  rectal_examination_feces     197 non-null    category\n",
      " 17  abdomen                      181 non-null    category\n",
      " 18  packed_cell_volume           270 non-null    float64 \n",
      " 19  total_protein                266 non-null    float64 \n",
      " 20  abdominocentesis_appearance  135 non-null    category\n",
      " 21  abdomcentesis_total_protein  102 non-null    float64 \n",
      " 22  outcome                      298 non-null    category\n",
      " 23  surgical_lesion              299 non-null    category\n",
      " 24  lesion_1                     299 non-null    category\n",
      " 25  lesion_2                     299 non-null    category\n",
      " 26  lesion_3                     299 non-null    category\n",
      " 27  cp_data                      299 non-null    category\n",
      "dtypes: category(21), float64(7)\n",
      "memory usage: 38.8 KB\n"
     ]
    }
   ],
   "source": [
    "horse_data.info()"
   ]
  },
  {
   "cell_type": "markdown",
   "metadata": {},
   "source": [
    "### Задание 1. Базовое изучение\n",
    "\n",
    "Изучить представленный набор данных на основе описания его столбцов и выбрать 8 столбцов для дальнейшего изучения (среди них должны быть как числовые, так и категориальные). Провести расчет базовых метрик для них, кратко описать результаты."
   ]
  },
  {
   "cell_type": "markdown",
   "metadata": {},
   "source": [
    "Выберем 8 стобцов для дальнейшего изучения"
   ]
  },
  {
   "cell_type": "code",
   "execution_count": 277,
   "metadata": {},
   "outputs": [
    {
     "data": {
      "text/html": [
       "<div>\n",
       "<style scoped>\n",
       "    .dataframe tbody tr th:only-of-type {\n",
       "        vertical-align: middle;\n",
       "    }\n",
       "\n",
       "    .dataframe tbody tr th {\n",
       "        vertical-align: top;\n",
       "    }\n",
       "\n",
       "    .dataframe thead th {\n",
       "        text-align: right;\n",
       "    }\n",
       "</style>\n",
       "<table border=\"1\" class=\"dataframe\">\n",
       "  <thead>\n",
       "    <tr style=\"text-align: right;\">\n",
       "      <th></th>\n",
       "      <th>rectal_temp</th>\n",
       "      <th>pulse</th>\n",
       "      <th>respiratory_rate</th>\n",
       "      <th>total_protein</th>\n",
       "      <th>nasogastric_reflux_ph</th>\n",
       "      <th>pain</th>\n",
       "      <th>peripheral_pulse</th>\n",
       "      <th>mucous_membranes</th>\n",
       "    </tr>\n",
       "  </thead>\n",
       "  <tbody>\n",
       "    <tr>\n",
       "      <th>0</th>\n",
       "      <td>39.2</td>\n",
       "      <td>88.0</td>\n",
       "      <td>20.0</td>\n",
       "      <td>85.0</td>\n",
       "      <td>NaN</td>\n",
       "      <td>3.0</td>\n",
       "      <td>NaN</td>\n",
       "      <td>4.0</td>\n",
       "    </tr>\n",
       "    <tr>\n",
       "      <th>1</th>\n",
       "      <td>38.3</td>\n",
       "      <td>40.0</td>\n",
       "      <td>24.0</td>\n",
       "      <td>6.7</td>\n",
       "      <td>NaN</td>\n",
       "      <td>3.0</td>\n",
       "      <td>1.0</td>\n",
       "      <td>3.0</td>\n",
       "    </tr>\n",
       "    <tr>\n",
       "      <th>2</th>\n",
       "      <td>39.1</td>\n",
       "      <td>164.0</td>\n",
       "      <td>84.0</td>\n",
       "      <td>7.2</td>\n",
       "      <td>5.0</td>\n",
       "      <td>2.0</td>\n",
       "      <td>1.0</td>\n",
       "      <td>6.0</td>\n",
       "    </tr>\n",
       "    <tr>\n",
       "      <th>3</th>\n",
       "      <td>37.3</td>\n",
       "      <td>104.0</td>\n",
       "      <td>35.0</td>\n",
       "      <td>7.4</td>\n",
       "      <td>NaN</td>\n",
       "      <td>NaN</td>\n",
       "      <td>NaN</td>\n",
       "      <td>6.0</td>\n",
       "    </tr>\n",
       "    <tr>\n",
       "      <th>4</th>\n",
       "      <td>NaN</td>\n",
       "      <td>NaN</td>\n",
       "      <td>NaN</td>\n",
       "      <td>NaN</td>\n",
       "      <td>NaN</td>\n",
       "      <td>2.0</td>\n",
       "      <td>1.0</td>\n",
       "      <td>3.0</td>\n",
       "    </tr>\n",
       "  </tbody>\n",
       "</table>\n",
       "</div>"
      ],
      "text/plain": [
       "   rectal_temp  pulse  respiratory_rate  total_protein  nasogastric_reflux_ph  \\\n",
       "0         39.2   88.0              20.0           85.0                    NaN   \n",
       "1         38.3   40.0              24.0            6.7                    NaN   \n",
       "2         39.1  164.0              84.0            7.2                    5.0   \n",
       "3         37.3  104.0              35.0            7.4                    NaN   \n",
       "4          NaN    NaN               NaN            NaN                    NaN   \n",
       "\n",
       "  pain peripheral_pulse mucous_membranes  \n",
       "0  3.0              NaN              4.0  \n",
       "1  3.0              1.0              3.0  \n",
       "2  2.0              1.0              6.0  \n",
       "3  NaN              NaN              6.0  \n",
       "4  2.0              1.0              3.0  "
      ]
     },
     "execution_count": 277,
     "metadata": {},
     "output_type": "execute_result"
    }
   ],
   "source": [
    "horse_short_data = horse_data[[\n",
    "  'rectal_temp',\n",
    "  'pulse',\n",
    "  'respiratory_rate',\n",
    "  'total_protein',\n",
    "  'nasogastric_reflux_ph',\n",
    "  'pain',\n",
    "  'peripheral_pulse',\n",
    "  'mucous_membranes',\n",
    "]]\n",
    "\n",
    "horse_short_data.head()"
   ]
  },
  {
   "cell_type": "code",
   "execution_count": 278,
   "metadata": {},
   "outputs": [
    {
     "name": "stdout",
     "output_type": "stream",
     "text": [
      "<class 'pandas.core.frame.DataFrame'>\n",
      "RangeIndex: 299 entries, 0 to 298\n",
      "Data columns (total 8 columns):\n",
      " #   Column                 Non-Null Count  Dtype   \n",
      "---  ------                 --------------  -----   \n",
      " 0   rectal_temp            239 non-null    float64 \n",
      " 1   pulse                  275 non-null    float64 \n",
      " 2   respiratory_rate       241 non-null    float64 \n",
      " 3   total_protein          266 non-null    float64 \n",
      " 4   nasogastric_reflux_ph  53 non-null     float64 \n",
      " 5   pain                   244 non-null    category\n",
      " 6   peripheral_pulse       230 non-null    category\n",
      " 7   mucous_membranes       253 non-null    category\n",
      "dtypes: category(3), float64(5)\n",
      "memory usage: 13.3 KB\n"
     ]
    }
   ],
   "source": [
    "horse_short_data.info()"
   ]
  },
  {
   "cell_type": "code",
   "execution_count": 10,
   "metadata": {},
   "outputs": [
    {
     "data": {
      "text/html": [
       "<div>\n",
       "<style scoped>\n",
       "    .dataframe tbody tr th:only-of-type {\n",
       "        vertical-align: middle;\n",
       "    }\n",
       "\n",
       "    .dataframe tbody tr th {\n",
       "        vertical-align: top;\n",
       "    }\n",
       "\n",
       "    .dataframe thead th {\n",
       "        text-align: right;\n",
       "    }\n",
       "</style>\n",
       "<table border=\"1\" class=\"dataframe\">\n",
       "  <thead>\n",
       "    <tr style=\"text-align: right;\">\n",
       "      <th></th>\n",
       "      <th>rectal_temp</th>\n",
       "      <th>pulse</th>\n",
       "      <th>respiratory_rate</th>\n",
       "      <th>total_protein</th>\n",
       "      <th>nasogastric_reflux_ph</th>\n",
       "    </tr>\n",
       "  </thead>\n",
       "  <tbody>\n",
       "    <tr>\n",
       "      <th>count</th>\n",
       "      <td>239.000000</td>\n",
       "      <td>275.000000</td>\n",
       "      <td>241.000000</td>\n",
       "      <td>266.000000</td>\n",
       "      <td>53.000000</td>\n",
       "    </tr>\n",
       "    <tr>\n",
       "      <th>mean</th>\n",
       "      <td>38.166527</td>\n",
       "      <td>71.934545</td>\n",
       "      <td>30.427386</td>\n",
       "      <td>24.517293</td>\n",
       "      <td>4.707547</td>\n",
       "    </tr>\n",
       "    <tr>\n",
       "      <th>std</th>\n",
       "      <td>0.733508</td>\n",
       "      <td>28.680522</td>\n",
       "      <td>17.678256</td>\n",
       "      <td>27.509056</td>\n",
       "      <td>1.982311</td>\n",
       "    </tr>\n",
       "    <tr>\n",
       "      <th>min</th>\n",
       "      <td>35.400000</td>\n",
       "      <td>30.000000</td>\n",
       "      <td>8.000000</td>\n",
       "      <td>3.300000</td>\n",
       "      <td>1.000000</td>\n",
       "    </tr>\n",
       "    <tr>\n",
       "      <th>25%</th>\n",
       "      <td>37.800000</td>\n",
       "      <td>48.000000</td>\n",
       "      <td>18.000000</td>\n",
       "      <td>6.500000</td>\n",
       "      <td>3.000000</td>\n",
       "    </tr>\n",
       "    <tr>\n",
       "      <th>50%</th>\n",
       "      <td>38.200000</td>\n",
       "      <td>64.000000</td>\n",
       "      <td>24.000000</td>\n",
       "      <td>7.500000</td>\n",
       "      <td>5.000000</td>\n",
       "    </tr>\n",
       "    <tr>\n",
       "      <th>75%</th>\n",
       "      <td>38.500000</td>\n",
       "      <td>88.000000</td>\n",
       "      <td>36.000000</td>\n",
       "      <td>57.000000</td>\n",
       "      <td>6.500000</td>\n",
       "    </tr>\n",
       "    <tr>\n",
       "      <th>max</th>\n",
       "      <td>40.800000</td>\n",
       "      <td>184.000000</td>\n",
       "      <td>96.000000</td>\n",
       "      <td>89.000000</td>\n",
       "      <td>7.500000</td>\n",
       "    </tr>\n",
       "  </tbody>\n",
       "</table>\n",
       "</div>"
      ],
      "text/plain": [
       "       rectal_temp       pulse  respiratory_rate  total_protein  \\\n",
       "count   239.000000  275.000000        241.000000     266.000000   \n",
       "mean     38.166527   71.934545         30.427386      24.517293   \n",
       "std       0.733508   28.680522         17.678256      27.509056   \n",
       "min      35.400000   30.000000          8.000000       3.300000   \n",
       "25%      37.800000   48.000000         18.000000       6.500000   \n",
       "50%      38.200000   64.000000         24.000000       7.500000   \n",
       "75%      38.500000   88.000000         36.000000      57.000000   \n",
       "max      40.800000  184.000000         96.000000      89.000000   \n",
       "\n",
       "       nasogastric_reflux_ph  \n",
       "count              53.000000  \n",
       "mean                4.707547  \n",
       "std                 1.982311  \n",
       "min                 1.000000  \n",
       "25%                 3.000000  \n",
       "50%                 5.000000  \n",
       "75%                 6.500000  \n",
       "max                 7.500000  "
      ]
     },
     "execution_count": 10,
     "metadata": {},
     "output_type": "execute_result"
    }
   ],
   "source": [
    "horse_short_data.describe()"
   ]
  },
  {
   "cell_type": "code",
   "execution_count": 11,
   "metadata": {},
   "outputs": [],
   "source": [
    "def get_metrics(series):\n",
    "  column_type = series.dtype\n",
    "  \n",
    "  if column_type == 'float64':\n",
    "    min = series.min()\n",
    "    max = series.max()\n",
    "    range = max - min\n",
    "    mean = series.mean()\n",
    "    median = series.median()\n",
    "    std = series.std()\n",
    "    var = series.var()\n",
    "    mode = series.mode()\n",
    "    q1 = series.quantile(0.25)\n",
    "    q3 = series.quantile(0.75)\n",
    "    iqr = q3 - q1\n",
    "  \n",
    "    return {\n",
    "      'min': round(min, 2),\n",
    "      'max': round(max, 2),\n",
    "      'range': round(range, 2),\n",
    "      'mean': round(mean, 2),\n",
    "      'median': round(median, 2),\n",
    "      'std': round(std, 2),\n",
    "      'var': round(var, 2),\n",
    "      'mode': list(mode),\n",
    "      'q1': round(q1, 2),\n",
    "      'q3': round(q3, 2),\n",
    "      'iqr': round(iqr, 2),\n",
    "    }\n",
    "  \n",
    "  if column_type == 'category':\n",
    "    mode = series.mode()\n",
    "    \n",
    "    return {\n",
    "      'mode': list(mode),\n",
    "    }"
   ]
  },
  {
   "cell_type": "markdown",
   "metadata": {},
   "source": [
    "#### Расчет базовых метрик для столбца Rectal temperature"
   ]
  },
  {
   "cell_type": "code",
   "execution_count": 12,
   "metadata": {},
   "outputs": [
    {
     "data": {
      "text/plain": [
       "{'min': 35.4,\n",
       " 'max': 40.8,\n",
       " 'range': 5.4,\n",
       " 'mean': 38.17,\n",
       " 'median': 38.2,\n",
       " 'std': 0.73,\n",
       " 'var': 0.54,\n",
       " 'mode': [38.0],\n",
       " 'q1': 37.8,\n",
       " 'q3': 38.5,\n",
       " 'iqr': 0.7}"
      ]
     },
     "execution_count": 12,
     "metadata": {},
     "output_type": "execute_result"
    }
   ],
   "source": [
    "get_metrics(horse_short_data.rectal_temp)"
   ]
  },
  {
   "cell_type": "markdown",
   "metadata": {},
   "source": [
    "- Минимальное значение - **35.4**\n",
    "- Максимальное значение - **40.8**\n",
    "- Размах - **5.4**\n",
    "- Среднее значение - **38.17**\n",
    "- Медиана - **38.2**\n",
    "- Стандартное отклонение - **0.73**\n",
    "- Дисперсия - **0.54**\n",
    "- Мода - **38**\n",
    "- Первый квартиль - **37.8**\n",
    "- Третий квартиль - **38.5**\n",
    "- Межквартильный размах - **0.7**"
   ]
  },
  {
   "cell_type": "markdown",
   "metadata": {},
   "source": [
    "#### Расчет базовых метрик для столбца Pulse"
   ]
  },
  {
   "cell_type": "code",
   "execution_count": 13,
   "metadata": {},
   "outputs": [
    {
     "data": {
      "text/plain": [
       "{'min': 30.0,\n",
       " 'max': 184.0,\n",
       " 'range': 154.0,\n",
       " 'mean': 71.93,\n",
       " 'median': 64.0,\n",
       " 'std': 28.68,\n",
       " 'var': 822.57,\n",
       " 'mode': [48.0],\n",
       " 'q1': 48.0,\n",
       " 'q3': 88.0,\n",
       " 'iqr': 40.0}"
      ]
     },
     "execution_count": 13,
     "metadata": {},
     "output_type": "execute_result"
    }
   ],
   "source": [
    "get_metrics(horse_short_data.pulse)"
   ]
  },
  {
   "cell_type": "markdown",
   "metadata": {},
   "source": [
    "- Минимальное значение - **30**\n",
    "- Максимальное значение - **184**\n",
    "- Размах - **154**\n",
    "- Среднее значение - **71.93**\n",
    "- Медиана - **64**\n",
    "- Стандартное отклонение - **26.68**\n",
    "- Дисперсия - **822.57**\n",
    "- Мода - **48**\n",
    "- Первый квартиль - **48**\n",
    "- Третий квартиль - **88**\n",
    "- Межквартильный размах - **40**"
   ]
  },
  {
   "cell_type": "markdown",
   "metadata": {},
   "source": [
    "#### Расчет базовых метрик для столбца Respiratory rate"
   ]
  },
  {
   "cell_type": "code",
   "execution_count": 14,
   "metadata": {},
   "outputs": [
    {
     "data": {
      "text/plain": [
       "{'min': 8.0,\n",
       " 'max': 96.0,\n",
       " 'range': 88.0,\n",
       " 'mean': 30.43,\n",
       " 'median': 24.0,\n",
       " 'std': 17.68,\n",
       " 'var': 312.52,\n",
       " 'mode': [20.0],\n",
       " 'q1': 18.0,\n",
       " 'q3': 36.0,\n",
       " 'iqr': 18.0}"
      ]
     },
     "execution_count": 14,
     "metadata": {},
     "output_type": "execute_result"
    }
   ],
   "source": [
    "get_metrics(horse_short_data.respiratory_rate)"
   ]
  },
  {
   "cell_type": "markdown",
   "metadata": {},
   "source": [
    "- Минимальное значение - **8**\n",
    "- Максимальное значение - **96**\n",
    "- Размах - **88**\n",
    "- Среднее значение - **30.43**\n",
    "- Медиана - **24**\n",
    "- Стандартное отклонение - **17.68**\n",
    "- Дисперсия - **312.52**\n",
    "- Мода - **20**\n",
    "- Первый квартиль - **18**\n",
    "- Третий квартиль - **36**\n",
    "- Межквартильный размах - **18**"
   ]
  },
  {
   "cell_type": "markdown",
   "metadata": {},
   "source": [
    "#### Расчет базовых метрик для столбца Total protein"
   ]
  },
  {
   "cell_type": "code",
   "execution_count": 15,
   "metadata": {},
   "outputs": [
    {
     "data": {
      "text/plain": [
       "{'min': 3.3,\n",
       " 'max': 89.0,\n",
       " 'range': 85.7,\n",
       " 'mean': 24.52,\n",
       " 'median': 7.5,\n",
       " 'std': 27.51,\n",
       " 'var': 756.75,\n",
       " 'mode': [6.5, 7.0],\n",
       " 'q1': 6.5,\n",
       " 'q3': 57.0,\n",
       " 'iqr': 50.5}"
      ]
     },
     "execution_count": 15,
     "metadata": {},
     "output_type": "execute_result"
    }
   ],
   "source": [
    "get_metrics(horse_short_data.total_protein)"
   ]
  },
  {
   "cell_type": "markdown",
   "metadata": {},
   "source": [
    "- Минимальное значение - **3.3**\n",
    "- Максимальное значение - **89**\n",
    "- Размах - **85.7**\n",
    "- Среднее значение - **24.52**\n",
    "- Медиана - **7.5**\n",
    "- Стандартное отклонение - **27.51**\n",
    "- Дисперсия - **756.75**\n",
    "- Моды - **6.5** и **7**\n",
    "- Первый квартиль - **6.5**\n",
    "- Третий квартиль - **57**\n",
    "- Межквартильный размах - **50.5**"
   ]
  },
  {
   "cell_type": "markdown",
   "metadata": {},
   "source": [
    "#### Расчет базовых метрик для столбца Nasogastric reflux PH"
   ]
  },
  {
   "cell_type": "code",
   "execution_count": 16,
   "metadata": {},
   "outputs": [
    {
     "data": {
      "text/plain": [
       "{'min': 1.0,\n",
       " 'max': 7.5,\n",
       " 'range': 6.5,\n",
       " 'mean': 4.71,\n",
       " 'median': 5.0,\n",
       " 'std': 1.98,\n",
       " 'var': 3.93,\n",
       " 'mode': [2.0],\n",
       " 'q1': 3.0,\n",
       " 'q3': 6.5,\n",
       " 'iqr': 3.5}"
      ]
     },
     "execution_count": 16,
     "metadata": {},
     "output_type": "execute_result"
    }
   ],
   "source": [
    "get_metrics(horse_short_data.nasogastric_reflux_ph)"
   ]
  },
  {
   "cell_type": "markdown",
   "metadata": {},
   "source": [
    "- Минимальное значение - **1**\n",
    "- Максимальное значение - **7.5**\n",
    "- Размах - **6.5**\n",
    "- Среднее значение - **4.71**\n",
    "- Медиана - **5**\n",
    "- Стандартное отклонение - **1.98**\n",
    "- Дисперсия - **3.93**\n",
    "- Мода - **2**\n",
    "- Первый квартиль - **3**\n",
    "- Третий квартиль - **6.5**\n",
    "- Межквартильный размах - **3.5**"
   ]
  },
  {
   "cell_type": "markdown",
   "metadata": {},
   "source": [
    "#### Расчет базовых метрик для столбца Pain"
   ]
  },
  {
   "cell_type": "code",
   "execution_count": 17,
   "metadata": {},
   "outputs": [
    {
     "data": {
      "text/plain": [
       "{'mode': [3.0]}"
      ]
     },
     "execution_count": 17,
     "metadata": {},
     "output_type": "execute_result"
    }
   ],
   "source": [
    "get_metrics(horse_short_data.pain)"
   ]
  },
  {
   "cell_type": "markdown",
   "metadata": {},
   "source": [
    "- Мода - **3** (Прерывистая легкая боль)"
   ]
  },
  {
   "cell_type": "markdown",
   "metadata": {},
   "source": [
    "#### Расчет базовых метрик для столбца Peripheral pulse"
   ]
  },
  {
   "cell_type": "code",
   "execution_count": 18,
   "metadata": {},
   "outputs": [
    {
     "data": {
      "text/plain": [
       "{'mode': [1.0]}"
      ]
     },
     "execution_count": 18,
     "metadata": {},
     "output_type": "execute_result"
    }
   ],
   "source": [
    "get_metrics(horse_short_data.peripheral_pulse)"
   ]
  },
  {
   "cell_type": "markdown",
   "metadata": {},
   "source": [
    "- Мода - **1** (Нормальный)"
   ]
  },
  {
   "cell_type": "markdown",
   "metadata": {},
   "source": [
    "#### Расчет базовых метрик для столбца Mucous membranes"
   ]
  },
  {
   "cell_type": "code",
   "execution_count": 19,
   "metadata": {},
   "outputs": [
    {
     "data": {
      "text/plain": [
       "{'mode': [1.0]}"
      ]
     },
     "execution_count": 19,
     "metadata": {},
     "output_type": "execute_result"
    }
   ],
   "source": [
    "get_metrics(horse_short_data.mucous_membranes)"
   ]
  },
  {
   "cell_type": "markdown",
   "metadata": {},
   "source": [
    "- Мода - **1** (Нормальный розовый)"
   ]
  },
  {
   "cell_type": "markdown",
   "metadata": {},
   "source": [
    "### Задание 2. Работа с выбросами\n",
    "\n",
    "В выбранных числовых столбцах найти выбросы, выдвинуть гипотезы об их причинах и проинтерпретировать результаты. Принять и обосновать решение о дальнейшей работе с ними."
   ]
  },
  {
   "cell_type": "code",
   "execution_count": 20,
   "metadata": {},
   "outputs": [],
   "source": [
    "def get_outliers(series):\n",
    "  q1 = series.quantile(0.25)\n",
    "  q3 = series.quantile(0.75)\n",
    "  iqr = q3 - q1\n",
    "  \n",
    "  lower_bound = q1 - 1.5 * iqr\n",
    "  upper_bound = q3 + 1.5 * iqr\n",
    "  \n",
    "  without_outliers = series[series.between(lower_bound, upper_bound, inclusive=True)]\n",
    "\n",
    "  outliers = pd.concat([series, without_outliers]).drop_duplicates(keep=False)\n",
    "  \n",
    "  return (without_outliers, outliers)"
   ]
  },
  {
   "cell_type": "markdown",
   "metadata": {},
   "source": [
    "#### Выбросы в столбце Rectal temperature"
   ]
  },
  {
   "cell_type": "code",
   "execution_count": 21,
   "metadata": {},
   "outputs": [
    {
     "data": {
      "text/plain": [
       "19     39.9\n",
       "43     35.4\n",
       "74     39.7\n",
       "79     36.4\n",
       "98     39.6\n",
       "140    36.0\n",
       "237    36.1\n",
       "250    36.6\n",
       "258    40.8\n",
       "280    40.0\n",
       "Name: rectal_temp, dtype: float64"
      ]
     },
     "execution_count": 21,
     "metadata": {},
     "output_type": "execute_result"
    }
   ],
   "source": [
    "rectal_temp_without_outliers, rectal_temp_outliers = get_outliers(horse_short_data.rectal_temp)\n",
    "rectal_temp_outliers"
   ]
  },
  {
   "cell_type": "markdown",
   "metadata": {},
   "source": [
    "#### Изменение средних"
   ]
  },
  {
   "cell_type": "code",
   "execution_count": 22,
   "metadata": {},
   "outputs": [
    {
     "name": "stdout",
     "output_type": "stream",
     "text": [
      "Среднее 38.166527196652716\n",
      "Среднее без выбросов 38.16755555555556\n"
     ]
    }
   ],
   "source": [
    "print('Среднее', horse_short_data.rectal_temp.mean())\n",
    "print('Среднее без выбросов', rectal_temp_without_outliers.mean())"
   ]
  },
  {
   "cell_type": "code",
   "execution_count": 23,
   "metadata": {},
   "outputs": [
    {
     "name": "stdout",
     "output_type": "stream",
     "text": [
      "Медиана 38.2\n",
      "Медиана без выбросов 38.2\n"
     ]
    }
   ],
   "source": [
    "print('Медиана', horse_short_data.rectal_temp.median())\n",
    "print('Медиана без выбросов', rectal_temp_without_outliers.median())"
   ]
  },
  {
   "cell_type": "markdown",
   "metadata": {},
   "source": [
    "##### В описании столбца указано, что повышенная температура может быть из-за инфекции, а пониженная может быть, когда животное находится в шоке. В данном случае все значения, определенные как выбросы, находятся в реальных пределах. Так что их оставляем"
   ]
  },
  {
   "cell_type": "markdown",
   "metadata": {},
   "source": [
    "#### Выбросы в столбце Pulse"
   ]
  },
  {
   "cell_type": "code",
   "execution_count": 24,
   "metadata": {},
   "outputs": [
    {
     "data": {
      "text/plain": [
       "2      164.0\n",
       "54     160.0\n",
       "254    184.0\n",
       "Name: pulse, dtype: float64"
      ]
     },
     "execution_count": 24,
     "metadata": {},
     "output_type": "execute_result"
    }
   ],
   "source": [
    "pulse_without_outliers, pulse_outliers = get_outliers(horse_short_data.pulse)\n",
    "pulse_outliers"
   ]
  },
  {
   "cell_type": "code",
   "execution_count": 25,
   "metadata": {},
   "outputs": [
    {
     "name": "stdout",
     "output_type": "stream",
     "text": [
      "Среднее 71.93454545454546\n",
      "Среднее без выбросов 70.27407407407408\n"
     ]
    }
   ],
   "source": [
    "print('Среднее', horse_short_data.pulse.mean())\n",
    "print('Среднее без выбросов', pulse_without_outliers.mean())"
   ]
  },
  {
   "cell_type": "code",
   "execution_count": 26,
   "metadata": {},
   "outputs": [
    {
     "name": "stdout",
     "output_type": "stream",
     "text": [
      "Медиана 64.0\n",
      "Медиана без выбросов 64.0\n"
     ]
    }
   ],
   "source": [
    "print('Медиана', horse_short_data.pulse.median())\n",
    "print('Медиана без выбросов', pulse_without_outliers.median())"
   ]
  },
  {
   "cell_type": "markdown",
   "metadata": {},
   "source": [
    "##### Из описания столбца следует, что нормальные показатели для взрослых особей колеблются в пределах 30-40 ударов в минуту. Однако также сказано, что у болеющих животных, а также животных пребывающих в шоке (возможно коротком), значения могут быть повышенными. Думаю, что несмотря на то, что приведенные выше значения значительно сильно выбиваются из допустимых значений, их можно оставить"
   ]
  },
  {
   "cell_type": "markdown",
   "metadata": {},
   "source": [
    "#### Выбросы в столбце Respiratory rate"
   ]
  },
  {
   "cell_type": "code",
   "execution_count": 27,
   "metadata": {},
   "outputs": [
    {
     "data": {
      "text/plain": [
       "40     72.0\n",
       "119    66.0\n",
       "243    88.0\n",
       "Name: respiratory_rate, dtype: float64"
      ]
     },
     "execution_count": 27,
     "metadata": {},
     "output_type": "execute_result"
    }
   ],
   "source": [
    "respiratory_rate_without_outliers, respiratory_rate_outliers = get_outliers(horse_short_data.respiratory_rate)\n",
    "respiratory_rate_outliers"
   ]
  },
  {
   "cell_type": "code",
   "execution_count": 28,
   "metadata": {},
   "outputs": [
    {
     "name": "stdout",
     "output_type": "stream",
     "text": [
      "Среднее 30.42738589211618\n",
      "Среднее без выбросов 26.709821428571427\n"
     ]
    }
   ],
   "source": [
    "print('Среднее', horse_short_data.respiratory_rate.mean())\n",
    "print('Среднее без выбросов', respiratory_rate_without_outliers.mean())"
   ]
  },
  {
   "cell_type": "code",
   "execution_count": 29,
   "metadata": {},
   "outputs": [
    {
     "name": "stdout",
     "output_type": "stream",
     "text": [
      "Медиана 24.0\n",
      "Медиана без выбросов 24.0\n"
     ]
    }
   ],
   "source": [
    "print('Медиана', horse_short_data.respiratory_rate.median())\n",
    "print('Медиана без выбросов', respiratory_rate_without_outliers.median())"
   ]
  },
  {
   "cell_type": "markdown",
   "metadata": {},
   "source": [
    "##### В описании столбца указано, что полезность этих данных сомнительна из-за больших колебаний. Думаю, что найденные выбросы как раз подходят под колебания, так что их можно оставить"
   ]
  },
  {
   "cell_type": "markdown",
   "metadata": {},
   "source": [
    "#### Выбросы в стоблце Total protein"
   ]
  },
  {
   "cell_type": "code",
   "execution_count": 31,
   "metadata": {},
   "outputs": [
    {
     "data": {
      "text/plain": [
       "Series([], Name: total_protein, dtype: float64)"
      ]
     },
     "execution_count": 31,
     "metadata": {},
     "output_type": "execute_result"
    }
   ],
   "source": [
    "total_protein_without_outliers, total_protein_outliers = get_outliers(horse_short_data.total_protein)\n",
    "total_protein_outliers"
   ]
  },
  {
   "cell_type": "markdown",
   "metadata": {},
   "source": [
    "##### Здесь выбросов нет"
   ]
  },
  {
   "cell_type": "markdown",
   "metadata": {},
   "source": [
    "### Выбросы в столбце Nasogastric reflux PH"
   ]
  },
  {
   "cell_type": "code",
   "execution_count": 32,
   "metadata": {},
   "outputs": [
    {
     "data": {
      "text/plain": [
       "Series([], Name: nasogastric_reflux_ph, dtype: float64)"
      ]
     },
     "execution_count": 32,
     "metadata": {},
     "output_type": "execute_result"
    }
   ],
   "source": [
    "nasogastric_reflux_ph_without_outliers, nasogastric_reflux_ph_outliers = get_outliers(horse_short_data.nasogastric_reflux_ph)\n",
    "nasogastric_reflux_ph_outliers"
   ]
  },
  {
   "cell_type": "markdown",
   "metadata": {},
   "source": [
    "##### Здесь выбросов нет"
   ]
  },
  {
   "cell_type": "markdown",
   "metadata": {},
   "source": [
    "### Задание 3. Работа с пропусками\n",
    "\n",
    "Рассчитать количество пропусков для всех выбранных столбцов. Принять и обосновать решение о методе работы с пропусками по каждому столбцу, сформировать датафрейм, в котором пропуски будут отсутствовать."
   ]
  },
  {
   "cell_type": "code",
   "execution_count": 279,
   "metadata": {},
   "outputs": [],
   "source": [
    "horse_short_data_original = horse_short_data.copy()"
   ]
  },
  {
   "cell_type": "code",
   "execution_count": 281,
   "metadata": {},
   "outputs": [
    {
     "name": "stdout",
     "output_type": "stream",
     "text": [
      "<class 'pandas.core.frame.DataFrame'>\n",
      "RangeIndex: 299 entries, 0 to 298\n",
      "Data columns (total 8 columns):\n",
      " #   Column                 Non-Null Count  Dtype   \n",
      "---  ------                 --------------  -----   \n",
      " 0   rectal_temp            239 non-null    float64 \n",
      " 1   pulse                  275 non-null    float64 \n",
      " 2   respiratory_rate       241 non-null    float64 \n",
      " 3   total_protein          266 non-null    float64 \n",
      " 4   nasogastric_reflux_ph  53 non-null     float64 \n",
      " 5   pain                   244 non-null    category\n",
      " 6   peripheral_pulse       230 non-null    category\n",
      " 7   mucous_membranes       253 non-null    category\n",
      "dtypes: category(3), float64(5)\n",
      "memory usage: 13.3 KB\n"
     ]
    }
   ],
   "source": [
    "horse_short_data_original.info()"
   ]
  },
  {
   "cell_type": "markdown",
   "metadata": {},
   "source": [
    "---"
   ]
  },
  {
   "cell_type": "markdown",
   "metadata": {},
   "source": [
    "#### Пропуски в столбце Rectal temperature"
   ]
  },
  {
   "cell_type": "code",
   "execution_count": 282,
   "metadata": {},
   "outputs": [
    {
     "data": {
      "text/plain": [
       "60"
      ]
     },
     "execution_count": 282,
     "metadata": {},
     "output_type": "execute_result"
    }
   ],
   "source": [
    "horse_short_data.rectal_temp.isna().sum()"
   ]
  },
  {
   "cell_type": "markdown",
   "metadata": {},
   "source": [
    "Количество пропусков - **60**"
   ]
  },
  {
   "cell_type": "markdown",
   "metadata": {},
   "source": [
    "Метрики до заполнения пропущенных значений"
   ]
  },
  {
   "cell_type": "code",
   "execution_count": 283,
   "metadata": {},
   "outputs": [
    {
     "data": {
      "text/plain": [
       "{'min': 35.4,\n",
       " 'max': 40.8,\n",
       " 'range': 5.4,\n",
       " 'mean': 38.17,\n",
       " 'median': 38.2,\n",
       " 'std': 0.73,\n",
       " 'var': 0.54,\n",
       " 'mode': [38.0],\n",
       " 'q1': 37.8,\n",
       " 'q3': 38.5,\n",
       " 'iqr': 0.7}"
      ]
     },
     "execution_count": 283,
     "metadata": {},
     "output_type": "execute_result"
    }
   ],
   "source": [
    "get_metrics(horse_short_data_original.rectal_temp)"
   ]
  },
  {
   "cell_type": "markdown",
   "metadata": {},
   "source": [
    "Попробуем заполнить пропущенные значения медианой"
   ]
  },
  {
   "cell_type": "code",
   "execution_count": 284,
   "metadata": {},
   "outputs": [
    {
     "data": {
      "text/plain": [
       "{'min': 35.4,\n",
       " 'max': 40.8,\n",
       " 'range': 5.4,\n",
       " 'mean': 38.17,\n",
       " 'median': 38.2,\n",
       " 'std': 0.66,\n",
       " 'var': 0.43,\n",
       " 'mode': [38.2],\n",
       " 'q1': 37.9,\n",
       " 'q3': 38.5,\n",
       " 'iqr': 0.6}"
      ]
     },
     "execution_count": 284,
     "metadata": {},
     "output_type": "execute_result"
    }
   ],
   "source": [
    "rectal_temp_with_fillna = horse_short_data.rectal_temp.fillna(horse_short_data.rectal_temp.median())\n",
    "get_metrics(rectal_temp_with_fillna)"
   ]
  },
  {
   "cell_type": "markdown",
   "metadata": {},
   "source": [
    "Метрики изменились совсем незначительно. Используем этот метод заполнения пропусков"
   ]
  },
  {
   "cell_type": "code",
   "execution_count": null,
   "metadata": {},
   "outputs": [],
   "source": [
    "horse_short_data.rectal_temp = horse_short_data.rectal_temp.fillna(horse_short_data.rectal_temp.median())"
   ]
  },
  {
   "cell_type": "markdown",
   "metadata": {},
   "source": [
    "Проверим на наличие пропущенных значений"
   ]
  },
  {
   "cell_type": "code",
   "execution_count": 287,
   "metadata": {},
   "outputs": [
    {
     "data": {
      "text/plain": [
       "0"
      ]
     },
     "execution_count": 287,
     "metadata": {},
     "output_type": "execute_result"
    }
   ],
   "source": [
    "horse_short_data.rectal_temp.isna().sum()"
   ]
  },
  {
   "cell_type": "markdown",
   "metadata": {},
   "source": [
    "Пропусков нет"
   ]
  },
  {
   "cell_type": "markdown",
   "metadata": {},
   "source": [
    "---"
   ]
  },
  {
   "cell_type": "markdown",
   "metadata": {},
   "source": [
    "#### Пропуски в столбце Pulse"
   ]
  },
  {
   "cell_type": "code",
   "execution_count": 288,
   "metadata": {},
   "outputs": [
    {
     "data": {
      "text/plain": [
       "24"
      ]
     },
     "execution_count": 288,
     "metadata": {},
     "output_type": "execute_result"
    }
   ],
   "source": [
    "horse_short_data.pulse.isna().sum()"
   ]
  },
  {
   "cell_type": "markdown",
   "metadata": {},
   "source": [
    "Количество пропусков - **24**"
   ]
  },
  {
   "cell_type": "markdown",
   "metadata": {},
   "source": [
    "Метрики до заполнения пропущенных значений"
   ]
  },
  {
   "cell_type": "code",
   "execution_count": 289,
   "metadata": {},
   "outputs": [
    {
     "data": {
      "text/plain": [
       "{'min': 30.0,\n",
       " 'max': 184.0,\n",
       " 'range': 154.0,\n",
       " 'mean': 71.93,\n",
       " 'median': 64.0,\n",
       " 'std': 28.68,\n",
       " 'var': 822.57,\n",
       " 'mode': [48.0],\n",
       " 'q1': 48.0,\n",
       " 'q3': 88.0,\n",
       " 'iqr': 40.0}"
      ]
     },
     "execution_count": 289,
     "metadata": {},
     "output_type": "execute_result"
    }
   ],
   "source": [
    "get_metrics(horse_short_data.pulse)"
   ]
  },
  {
   "cell_type": "markdown",
   "metadata": {},
   "source": [
    "Попробуем заполнить пропущенные значения медианой"
   ]
  },
  {
   "cell_type": "code",
   "execution_count": 290,
   "metadata": {},
   "outputs": [
    {
     "data": {
      "text/plain": [
       "{'min': 30.0,\n",
       " 'max': 184.0,\n",
       " 'range': 154.0,\n",
       " 'mean': 71.3,\n",
       " 'median': 64.0,\n",
       " 'std': 27.59,\n",
       " 'var': 760.99,\n",
       " 'mode': [64.0],\n",
       " 'q1': 48.0,\n",
       " 'q3': 88.0,\n",
       " 'iqr': 40.0}"
      ]
     },
     "execution_count": 290,
     "metadata": {},
     "output_type": "execute_result"
    }
   ],
   "source": [
    "pulse_with_fillna = horse_short_data.pulse.fillna(horse_short_data.pulse.median())\n",
    "get_metrics(pulse_with_fillna)"
   ]
  },
  {
   "cell_type": "markdown",
   "metadata": {},
   "source": [
    "Метрики изменились незначительно. Используем этот метод заполнения пропусков"
   ]
  },
  {
   "cell_type": "code",
   "execution_count": null,
   "metadata": {},
   "outputs": [],
   "source": [
    "horse_short_data.pulse = horse_short_data.pulse.fillna(horse_short_data.pulse.median())"
   ]
  },
  {
   "cell_type": "markdown",
   "metadata": {},
   "source": [
    "Проверим на наличие пропущенных значений"
   ]
  },
  {
   "cell_type": "code",
   "execution_count": 292,
   "metadata": {},
   "outputs": [
    {
     "data": {
      "text/plain": [
       "0"
      ]
     },
     "execution_count": 292,
     "metadata": {},
     "output_type": "execute_result"
    }
   ],
   "source": [
    "horse_short_data.pulse.isna().sum()"
   ]
  },
  {
   "cell_type": "markdown",
   "metadata": {},
   "source": [
    "Пропусков нет"
   ]
  },
  {
   "cell_type": "markdown",
   "metadata": {},
   "source": [
    "---"
   ]
  },
  {
   "cell_type": "markdown",
   "metadata": {},
   "source": [
    "#### Пропуски в столбце Respiratory rate"
   ]
  },
  {
   "cell_type": "code",
   "execution_count": 293,
   "metadata": {},
   "outputs": [
    {
     "data": {
      "text/plain": [
       "58"
      ]
     },
     "execution_count": 293,
     "metadata": {},
     "output_type": "execute_result"
    }
   ],
   "source": [
    "horse_short_data.respiratory_rate.isna().sum()"
   ]
  },
  {
   "cell_type": "markdown",
   "metadata": {},
   "source": [
    "Количество пропусков - **58**"
   ]
  },
  {
   "cell_type": "markdown",
   "metadata": {},
   "source": [
    "Метрики до заполнения пропущенных значений"
   ]
  },
  {
   "cell_type": "code",
   "execution_count": 294,
   "metadata": {},
   "outputs": [
    {
     "data": {
      "text/plain": [
       "{'min': 8.0,\n",
       " 'max': 96.0,\n",
       " 'range': 88.0,\n",
       " 'mean': 30.43,\n",
       " 'median': 24.0,\n",
       " 'std': 17.68,\n",
       " 'var': 312.52,\n",
       " 'mode': [20.0],\n",
       " 'q1': 18.0,\n",
       " 'q3': 36.0,\n",
       " 'iqr': 18.0}"
      ]
     },
     "execution_count": 294,
     "metadata": {},
     "output_type": "execute_result"
    }
   ],
   "source": [
    "get_metrics(horse_short_data.respiratory_rate)"
   ]
  },
  {
   "cell_type": "markdown",
   "metadata": {},
   "source": [
    "Попробуем заполнить пропущенные значения медианой"
   ]
  },
  {
   "cell_type": "code",
   "execution_count": 295,
   "metadata": {},
   "outputs": [
    {
     "data": {
      "text/plain": [
       "{'min': 8.0,\n",
       " 'max': 96.0,\n",
       " 'range': 88.0,\n",
       " 'mean': 29.18,\n",
       " 'median': 24.0,\n",
       " 'std': 16.07,\n",
       " 'var': 258.18,\n",
       " 'mode': [24.0],\n",
       " 'q1': 20.0,\n",
       " 'q3': 34.5,\n",
       " 'iqr': 14.5}"
      ]
     },
     "execution_count": 295,
     "metadata": {},
     "output_type": "execute_result"
    }
   ],
   "source": [
    "respiratory_rate_with_fillna = horse_short_data.respiratory_rate.fillna(horse_short_data.respiratory_rate.median())\n",
    "get_metrics(respiratory_rate_with_fillna)"
   ]
  },
  {
   "cell_type": "markdown",
   "metadata": {},
   "source": [
    "Метрики изменились незначительно. Используем этот метод заполнения пропусков"
   ]
  },
  {
   "cell_type": "code",
   "execution_count": null,
   "metadata": {},
   "outputs": [],
   "source": [
    "horse_short_data.respiratory_rate = horse_short_data.respiratory_rate.fillna(horse_short_data.respiratory_rate.median())"
   ]
  },
  {
   "cell_type": "markdown",
   "metadata": {},
   "source": [
    "Проверим на наличие пропущенных значений"
   ]
  },
  {
   "cell_type": "code",
   "execution_count": 298,
   "metadata": {},
   "outputs": [
    {
     "data": {
      "text/plain": [
       "0"
      ]
     },
     "execution_count": 298,
     "metadata": {},
     "output_type": "execute_result"
    }
   ],
   "source": [
    "horse_short_data.respiratory_rate.isna().sum()"
   ]
  },
  {
   "cell_type": "markdown",
   "metadata": {},
   "source": [
    "Пропусков нет"
   ]
  },
  {
   "cell_type": "markdown",
   "metadata": {},
   "source": [
    "---"
   ]
  },
  {
   "cell_type": "markdown",
   "metadata": {},
   "source": [
    "#### Пропуски в столбце Total protein"
   ]
  },
  {
   "cell_type": "code",
   "execution_count": 299,
   "metadata": {},
   "outputs": [
    {
     "data": {
      "text/plain": [
       "33"
      ]
     },
     "execution_count": 299,
     "metadata": {},
     "output_type": "execute_result"
    }
   ],
   "source": [
    "horse_short_data.total_protein.isna().sum()"
   ]
  },
  {
   "cell_type": "markdown",
   "metadata": {},
   "source": [
    "Количество пропусков - **33**"
   ]
  },
  {
   "cell_type": "markdown",
   "metadata": {},
   "source": [
    "Метрики до заполнения пропущенных значений"
   ]
  },
  {
   "cell_type": "code",
   "execution_count": 300,
   "metadata": {},
   "outputs": [
    {
     "data": {
      "text/plain": [
       "{'min': 3.3,\n",
       " 'max': 89.0,\n",
       " 'range': 85.7,\n",
       " 'mean': 24.52,\n",
       " 'median': 7.5,\n",
       " 'std': 27.51,\n",
       " 'var': 756.75,\n",
       " 'mode': [6.5, 7.0],\n",
       " 'q1': 6.5,\n",
       " 'q3': 57.0,\n",
       " 'iqr': 50.5}"
      ]
     },
     "execution_count": 300,
     "metadata": {},
     "output_type": "execute_result"
    }
   ],
   "source": [
    "get_metrics(horse_short_data.total_protein)"
   ]
  },
  {
   "cell_type": "markdown",
   "metadata": {},
   "source": [
    "Попробуем заполнить пропущенные значения медианой"
   ]
  },
  {
   "cell_type": "code",
   "execution_count": 301,
   "metadata": {},
   "outputs": [
    {
     "data": {
      "text/plain": [
       "{'min': 3.3,\n",
       " 'max': 89.0,\n",
       " 'range': 85.7,\n",
       " 'mean': 22.64,\n",
       " 'median': 7.5,\n",
       " 'std': 26.49,\n",
       " 'var': 701.48,\n",
       " 'mode': [7.5],\n",
       " 'q1': 6.6,\n",
       " 'q3': 53.5,\n",
       " 'iqr': 46.9}"
      ]
     },
     "execution_count": 301,
     "metadata": {},
     "output_type": "execute_result"
    }
   ],
   "source": [
    "total_protein_with_fillna = horse_short_data.total_protein.fillna(horse_short_data.total_protein.median())\n",
    "get_metrics(total_protein_with_fillna)"
   ]
  },
  {
   "cell_type": "markdown",
   "metadata": {},
   "source": [
    "Метрики изменились незначительно. Используем этот метод заполнения пропусков"
   ]
  },
  {
   "cell_type": "code",
   "execution_count": null,
   "metadata": {},
   "outputs": [],
   "source": [
    "horse_short_data.total_protein = horse_short_data.total_protein.fillna(horse_short_data.total_protein.median())"
   ]
  },
  {
   "cell_type": "markdown",
   "metadata": {},
   "source": [
    "Проверим на наличие пропущенных значений"
   ]
  },
  {
   "cell_type": "code",
   "execution_count": 303,
   "metadata": {},
   "outputs": [
    {
     "data": {
      "text/plain": [
       "0"
      ]
     },
     "execution_count": 303,
     "metadata": {},
     "output_type": "execute_result"
    }
   ],
   "source": [
    "horse_short_data.total_protein.isna().sum()"
   ]
  },
  {
   "cell_type": "markdown",
   "metadata": {},
   "source": [
    "Пропусков нет"
   ]
  },
  {
   "cell_type": "markdown",
   "metadata": {},
   "source": [
    "---"
   ]
  },
  {
   "cell_type": "markdown",
   "metadata": {},
   "source": [
    "#### Пропуски в столбце Nasogastric reflux PH"
   ]
  },
  {
   "cell_type": "code",
   "execution_count": 304,
   "metadata": {},
   "outputs": [
    {
     "data": {
      "text/plain": [
       "246"
      ]
     },
     "execution_count": 304,
     "metadata": {},
     "output_type": "execute_result"
    }
   ],
   "source": [
    "horse_short_data.nasogastric_reflux_ph.isna().sum()"
   ]
  },
  {
   "cell_type": "markdown",
   "metadata": {},
   "source": [
    "Количество пропусков - **246**\n",
    "\n",
    "Пропусков очень много, более 80%. Можно попробовать заполнить столбец значениями на основе существующих данных, можно просто его удалить. Сложно сказать насколько полезны эти данные, но предположим, что не очень, так что удалим его"
   ]
  },
  {
   "cell_type": "code",
   "execution_count": null,
   "metadata": {},
   "outputs": [],
   "source": [
    "horse_short_data.drop(['nasogastric_reflux_ph'], axis = 1, inplace=True)"
   ]
  },
  {
   "cell_type": "markdown",
   "metadata": {},
   "source": [
    "---"
   ]
  },
  {
   "cell_type": "markdown",
   "metadata": {},
   "source": [
    "#### Пропуски в столбце Pain"
   ]
  },
  {
   "cell_type": "code",
   "execution_count": 309,
   "metadata": {},
   "outputs": [
    {
     "data": {
      "text/plain": [
       "55"
      ]
     },
     "execution_count": 309,
     "metadata": {},
     "output_type": "execute_result"
    }
   ],
   "source": [
    "horse_short_data.pain.isna().sum()"
   ]
  },
  {
   "cell_type": "markdown",
   "metadata": {},
   "source": [
    "Количество пропусков - **55**"
   ]
  },
  {
   "cell_type": "markdown",
   "metadata": {},
   "source": [
    "Метрики до заполнения пропусков"
   ]
  },
  {
   "cell_type": "code",
   "execution_count": 311,
   "metadata": {},
   "outputs": [
    {
     "data": {
      "text/plain": [
       "{'mode': [3.0]}"
      ]
     },
     "execution_count": 311,
     "metadata": {},
     "output_type": "execute_result"
    }
   ],
   "source": [
    "get_metrics(horse_short_data.pain)"
   ]
  },
  {
   "cell_type": "markdown",
   "metadata": {},
   "source": [
    "Распределение значений"
   ]
  },
  {
   "cell_type": "code",
   "execution_count": 310,
   "metadata": {},
   "outputs": [
    {
     "data": {
      "text/plain": [
       "3.0    67\n",
       "2.0    59\n",
       "5.0    41\n",
       "4.0    39\n",
       "1.0    38\n",
       "Name: pain, dtype: int64"
      ]
     },
     "execution_count": 310,
     "metadata": {},
     "output_type": "execute_result"
    }
   ],
   "source": [
    "horse_short_data.pain.value_counts()"
   ]
  },
  {
   "cell_type": "markdown",
   "metadata": {},
   "source": [
    "Мы видим распределение значений в выбранном столбце. Посколько нет явно выраженной моды, заменим пропущенные значения, основываясь на частотном распределении значений в столбце"
   ]
  },
  {
   "cell_type": "code",
   "execution_count": 313,
   "metadata": {},
   "outputs": [
    {
     "data": {
      "text/plain": [
       "3.0    0.274590\n",
       "2.0    0.241803\n",
       "5.0    0.168033\n",
       "4.0    0.159836\n",
       "1.0    0.155738\n",
       "Name: pain, dtype: float64"
      ]
     },
     "execution_count": 313,
     "metadata": {},
     "output_type": "execute_result"
    }
   ],
   "source": [
    "pain_distribution = horse_short_data_original.pain.value_counts(normalize=True)\n",
    "pain_distribution"
   ]
  },
  {
   "cell_type": "code",
   "execution_count": 314,
   "metadata": {},
   "outputs": [],
   "source": [
    "pain_missing = horse_short_data_original.pain.isnull()"
   ]
  },
  {
   "cell_type": "code",
   "execution_count": null,
   "metadata": {},
   "outputs": [],
   "source": [
    "horse_short_data.loc[pain_missing, 'pain'] = np.random.choice(pain_distribution.index, size=len(horse_short_data[pain_missing]),p=pain_distribution.values)"
   ]
  },
  {
   "cell_type": "markdown",
   "metadata": {},
   "source": [
    "Проверим на наличие пропущенных значений"
   ]
  },
  {
   "cell_type": "code",
   "execution_count": 316,
   "metadata": {},
   "outputs": [
    {
     "data": {
      "text/plain": [
       "0"
      ]
     },
     "execution_count": 316,
     "metadata": {},
     "output_type": "execute_result"
    }
   ],
   "source": [
    "horse_short_data.pain.isna().sum()"
   ]
  },
  {
   "cell_type": "markdown",
   "metadata": {},
   "source": [
    "Проверим не изменилась ли мода"
   ]
  },
  {
   "cell_type": "code",
   "execution_count": 318,
   "metadata": {},
   "outputs": [
    {
     "data": {
      "text/plain": [
       "{'mode': [3.0]}"
      ]
     },
     "execution_count": 318,
     "metadata": {},
     "output_type": "execute_result"
    }
   ],
   "source": [
    "get_metrics(horse_short_data.pain)"
   ]
  },
  {
   "cell_type": "markdown",
   "metadata": {},
   "source": [
    "Мода осталась прежней"
   ]
  },
  {
   "cell_type": "markdown",
   "metadata": {},
   "source": [
    "---"
   ]
  },
  {
   "cell_type": "markdown",
   "metadata": {},
   "source": [
    "#### Пропуски в столбце Peripheral pulse"
   ]
  },
  {
   "cell_type": "code",
   "execution_count": 319,
   "metadata": {},
   "outputs": [
    {
     "data": {
      "text/plain": [
       "69"
      ]
     },
     "execution_count": 319,
     "metadata": {},
     "output_type": "execute_result"
    }
   ],
   "source": [
    "horse_short_data.peripheral_pulse.isna().sum()"
   ]
  },
  {
   "cell_type": "markdown",
   "metadata": {},
   "source": [
    "Количество пропусков - **69**"
   ]
  },
  {
   "cell_type": "markdown",
   "metadata": {},
   "source": [
    "Метрики до заполнения пропусков"
   ]
  },
  {
   "cell_type": "code",
   "execution_count": 320,
   "metadata": {},
   "outputs": [
    {
     "data": {
      "text/plain": [
       "{'mode': [1.0]}"
      ]
     },
     "execution_count": 320,
     "metadata": {},
     "output_type": "execute_result"
    }
   ],
   "source": [
    "get_metrics(horse_short_data.peripheral_pulse)"
   ]
  },
  {
   "cell_type": "markdown",
   "metadata": {},
   "source": [
    "Распределение значений"
   ]
  },
  {
   "cell_type": "code",
   "execution_count": 72,
   "metadata": {},
   "outputs": [
    {
     "data": {
      "text/plain": [
       "1.0    115\n",
       "3.0    102\n",
       "4.0      8\n",
       "2.0      5\n",
       "Name: peripheral_pulse, dtype: int64"
      ]
     },
     "execution_count": 72,
     "metadata": {},
     "output_type": "execute_result"
    }
   ],
   "source": [
    "horse_short_data.peripheral_pulse.value_counts()"
   ]
  },
  {
   "cell_type": "markdown",
   "metadata": {},
   "source": [
    "Мы видим распределение значений в выбранном столбце. Посколько нет явно выраженной моды, заменим пропущенные значения, основываясь на частотном распределении значений в столбце"
   ]
  },
  {
   "cell_type": "code",
   "execution_count": 321,
   "metadata": {},
   "outputs": [
    {
     "data": {
      "text/plain": [
       "1.0    0.500000\n",
       "3.0    0.443478\n",
       "4.0    0.034783\n",
       "2.0    0.021739\n",
       "Name: peripheral_pulse, dtype: float64"
      ]
     },
     "execution_count": 321,
     "metadata": {},
     "output_type": "execute_result"
    }
   ],
   "source": [
    "peripheral_pulse_distribution = horse_short_data_original.peripheral_pulse.value_counts(normalize=True)\n",
    "peripheral_pulse_distribution"
   ]
  },
  {
   "cell_type": "code",
   "execution_count": 322,
   "metadata": {},
   "outputs": [],
   "source": [
    "peripheral_pulse_missing = horse_short_data_original.peripheral_pulse.isnull()"
   ]
  },
  {
   "cell_type": "code",
   "execution_count": 323,
   "metadata": {},
   "outputs": [],
   "source": [
    "horse_short_data.loc[peripheral_pulse_missing, 'peripheral_pulse'] = np.random.choice(peripheral_pulse_distribution.index, size=len(horse_short_data[peripheral_pulse_missing]),p=peripheral_pulse_distribution.values)"
   ]
  },
  {
   "cell_type": "markdown",
   "metadata": {},
   "source": [
    "Проверим на наличие пропущенных значений"
   ]
  },
  {
   "cell_type": "code",
   "execution_count": 324,
   "metadata": {},
   "outputs": [
    {
     "data": {
      "text/plain": [
       "0"
      ]
     },
     "execution_count": 324,
     "metadata": {},
     "output_type": "execute_result"
    }
   ],
   "source": [
    "horse_short_data.peripheral_pulse.isna().sum()"
   ]
  },
  {
   "cell_type": "markdown",
   "metadata": {},
   "source": [
    "Проверим не изменилась ли мода"
   ]
  },
  {
   "cell_type": "code",
   "execution_count": 325,
   "metadata": {},
   "outputs": [
    {
     "data": {
      "text/plain": [
       "{'mode': [1.0]}"
      ]
     },
     "execution_count": 325,
     "metadata": {},
     "output_type": "execute_result"
    }
   ],
   "source": [
    "get_metrics(horse_short_data.peripheral_pulse)"
   ]
  },
  {
   "cell_type": "markdown",
   "metadata": {},
   "source": [
    "Мода осталась прежней"
   ]
  },
  {
   "cell_type": "markdown",
   "metadata": {},
   "source": [
    "---"
   ]
  },
  {
   "cell_type": "markdown",
   "metadata": {},
   "source": [
    "#### Пропуски в столбце Mucous membranes"
   ]
  },
  {
   "cell_type": "code",
   "execution_count": 148,
   "metadata": {},
   "outputs": [
    {
     "data": {
      "text/plain": [
       "46"
      ]
     },
     "execution_count": 148,
     "metadata": {},
     "output_type": "execute_result"
    }
   ],
   "source": [
    "horse_short_data_original.mucous_membranes.isna().sum()"
   ]
  },
  {
   "cell_type": "markdown",
   "metadata": {},
   "source": [
    "Количество пропусков - **46**"
   ]
  },
  {
   "cell_type": "markdown",
   "metadata": {},
   "source": [
    "Метрики до заполнения пропусков"
   ]
  },
  {
   "cell_type": "code",
   "execution_count": 326,
   "metadata": {},
   "outputs": [
    {
     "data": {
      "text/plain": [
       "{'mode': [1.0]}"
      ]
     },
     "execution_count": 326,
     "metadata": {},
     "output_type": "execute_result"
    }
   ],
   "source": [
    "get_metrics(horse_short_data_original.mucous_membranes)"
   ]
  },
  {
   "cell_type": "markdown",
   "metadata": {},
   "source": [
    "Распределение значений"
   ]
  },
  {
   "cell_type": "code",
   "execution_count": 327,
   "metadata": {},
   "outputs": [
    {
     "data": {
      "text/plain": [
       "1.0    79\n",
       "3.0    58\n",
       "4.0    41\n",
       "2.0    30\n",
       "5.0    25\n",
       "6.0    20\n",
       "Name: mucous_membranes, dtype: int64"
      ]
     },
     "execution_count": 327,
     "metadata": {},
     "output_type": "execute_result"
    }
   ],
   "source": [
    "horse_short_data_original.mucous_membranes.value_counts()"
   ]
  },
  {
   "cell_type": "markdown",
   "metadata": {},
   "source": [
    "Мы видим распределение значений в выбранном столбце. Посколько нет явно выраженной моды, заменим пропущенные значения, основываясь на частотном распределении значений в столбце"
   ]
  },
  {
   "cell_type": "code",
   "execution_count": 329,
   "metadata": {},
   "outputs": [
    {
     "data": {
      "text/plain": [
       "1.0    0.312253\n",
       "3.0    0.229249\n",
       "4.0    0.162055\n",
       "2.0    0.118577\n",
       "5.0    0.098814\n",
       "6.0    0.079051\n",
       "Name: mucous_membranes, dtype: float64"
      ]
     },
     "execution_count": 329,
     "metadata": {},
     "output_type": "execute_result"
    }
   ],
   "source": [
    "mucous_membranes_distribution = horse_short_data_original.mucous_membranes.value_counts(normalize=True)\n",
    "mucous_membranes_distribution"
   ]
  },
  {
   "cell_type": "code",
   "execution_count": 330,
   "metadata": {},
   "outputs": [],
   "source": [
    "mucous_membranes_missing = horse_short_data_original.mucous_membranes.isnull()"
   ]
  },
  {
   "cell_type": "code",
   "execution_count": 331,
   "metadata": {},
   "outputs": [],
   "source": [
    "horse_short_data.loc[mucous_membranes_missing, 'mucous_membranes'] = np.random.choice(mucous_membranes_distribution.index, size=len(horse_short_data[mucous_membranes_missing]),p=mucous_membranes_distribution.values)"
   ]
  },
  {
   "cell_type": "markdown",
   "metadata": {},
   "source": [
    "Проверим на наличие пропущенных значений"
   ]
  },
  {
   "cell_type": "code",
   "execution_count": 332,
   "metadata": {},
   "outputs": [
    {
     "data": {
      "text/plain": [
       "0"
      ]
     },
     "execution_count": 332,
     "metadata": {},
     "output_type": "execute_result"
    }
   ],
   "source": [
    "horse_short_data.mucous_membranes.isna().sum()"
   ]
  },
  {
   "cell_type": "markdown",
   "metadata": {},
   "source": [
    "Проверим, не изменилась ли мода"
   ]
  },
  {
   "cell_type": "code",
   "execution_count": 333,
   "metadata": {},
   "outputs": [
    {
     "data": {
      "text/plain": [
       "{'mode': [1.0]}"
      ]
     },
     "execution_count": 333,
     "metadata": {},
     "output_type": "execute_result"
    }
   ],
   "source": [
    "get_metrics(horse_short_data.mucous_membranes)"
   ]
  },
  {
   "cell_type": "markdown",
   "metadata": {},
   "source": [
    "Мода осталась прежней"
   ]
  },
  {
   "cell_type": "markdown",
   "metadata": {},
   "source": [
    "---"
   ]
  },
  {
   "cell_type": "markdown",
   "metadata": {},
   "source": [
    "#### Результирующий датафрейм с заполненными пропущенными значениями"
   ]
  },
  {
   "cell_type": "code",
   "execution_count": 334,
   "metadata": {},
   "outputs": [
    {
     "name": "stdout",
     "output_type": "stream",
     "text": [
      "<class 'pandas.core.frame.DataFrame'>\n",
      "RangeIndex: 299 entries, 0 to 298\n",
      "Data columns (total 7 columns):\n",
      " #   Column            Non-Null Count  Dtype   \n",
      "---  ------            --------------  -----   \n",
      " 0   rectal_temp       299 non-null    float64 \n",
      " 1   pulse             299 non-null    float64 \n",
      " 2   respiratory_rate  299 non-null    float64 \n",
      " 3   total_protein     299 non-null    float64 \n",
      " 4   pain              299 non-null    category\n",
      " 5   peripheral_pulse  299 non-null    category\n",
      " 6   mucous_membranes  299 non-null    category\n",
      "dtypes: category(3), float64(4)\n",
      "memory usage: 11.0 KB\n"
     ]
    }
   ],
   "source": [
    "horse_short_data.info()"
   ]
  },
  {
   "cell_type": "code",
   "execution_count": 335,
   "metadata": {},
   "outputs": [
    {
     "data": {
      "text/html": [
       "<div>\n",
       "<style scoped>\n",
       "    .dataframe tbody tr th:only-of-type {\n",
       "        vertical-align: middle;\n",
       "    }\n",
       "\n",
       "    .dataframe tbody tr th {\n",
       "        vertical-align: top;\n",
       "    }\n",
       "\n",
       "    .dataframe thead th {\n",
       "        text-align: right;\n",
       "    }\n",
       "</style>\n",
       "<table border=\"1\" class=\"dataframe\">\n",
       "  <thead>\n",
       "    <tr style=\"text-align: right;\">\n",
       "      <th></th>\n",
       "      <th>rectal_temp</th>\n",
       "      <th>pulse</th>\n",
       "      <th>respiratory_rate</th>\n",
       "      <th>total_protein</th>\n",
       "      <th>pain</th>\n",
       "      <th>peripheral_pulse</th>\n",
       "      <th>mucous_membranes</th>\n",
       "    </tr>\n",
       "  </thead>\n",
       "  <tbody>\n",
       "    <tr>\n",
       "      <th>0</th>\n",
       "      <td>39.2</td>\n",
       "      <td>88.0</td>\n",
       "      <td>20.0</td>\n",
       "      <td>85.0</td>\n",
       "      <td>3.0</td>\n",
       "      <td>1.0</td>\n",
       "      <td>4.0</td>\n",
       "    </tr>\n",
       "    <tr>\n",
       "      <th>1</th>\n",
       "      <td>38.3</td>\n",
       "      <td>40.0</td>\n",
       "      <td>24.0</td>\n",
       "      <td>6.7</td>\n",
       "      <td>3.0</td>\n",
       "      <td>1.0</td>\n",
       "      <td>3.0</td>\n",
       "    </tr>\n",
       "    <tr>\n",
       "      <th>2</th>\n",
       "      <td>39.1</td>\n",
       "      <td>164.0</td>\n",
       "      <td>84.0</td>\n",
       "      <td>7.2</td>\n",
       "      <td>2.0</td>\n",
       "      <td>1.0</td>\n",
       "      <td>6.0</td>\n",
       "    </tr>\n",
       "    <tr>\n",
       "      <th>3</th>\n",
       "      <td>37.3</td>\n",
       "      <td>104.0</td>\n",
       "      <td>35.0</td>\n",
       "      <td>7.4</td>\n",
       "      <td>3.0</td>\n",
       "      <td>1.0</td>\n",
       "      <td>6.0</td>\n",
       "    </tr>\n",
       "    <tr>\n",
       "      <th>4</th>\n",
       "      <td>38.2</td>\n",
       "      <td>64.0</td>\n",
       "      <td>24.0</td>\n",
       "      <td>7.5</td>\n",
       "      <td>2.0</td>\n",
       "      <td>1.0</td>\n",
       "      <td>3.0</td>\n",
       "    </tr>\n",
       "  </tbody>\n",
       "</table>\n",
       "</div>"
      ],
      "text/plain": [
       "   rectal_temp  pulse  respiratory_rate  total_protein pain peripheral_pulse  \\\n",
       "0         39.2   88.0              20.0           85.0  3.0              1.0   \n",
       "1         38.3   40.0              24.0            6.7  3.0              1.0   \n",
       "2         39.1  164.0              84.0            7.2  2.0              1.0   \n",
       "3         37.3  104.0              35.0            7.4  3.0              1.0   \n",
       "4         38.2   64.0              24.0            7.5  2.0              1.0   \n",
       "\n",
       "  mucous_membranes  \n",
       "0              4.0  \n",
       "1              3.0  \n",
       "2              6.0  \n",
       "3              6.0  \n",
       "4              3.0  "
      ]
     },
     "execution_count": 335,
     "metadata": {},
     "output_type": "execute_result"
    }
   ],
   "source": [
    "horse_short_data.head()"
   ]
  },
  {
   "cell_type": "code",
   "execution_count": null,
   "metadata": {},
   "outputs": [],
   "source": []
  }
 ],
 "metadata": {
  "kernelspec": {
   "display_name": "Python 3",
   "language": "python",
   "name": "python3"
  },
  "language_info": {
   "codemirror_mode": {
    "name": "ipython",
    "version": 3
   },
   "file_extension": ".py",
   "mimetype": "text/x-python",
   "name": "python",
   "nbconvert_exporter": "python",
   "pygments_lexer": "ipython3",
   "version": "3.9.1"
  }
 },
 "nbformat": 4,
 "nbformat_minor": 4
}
