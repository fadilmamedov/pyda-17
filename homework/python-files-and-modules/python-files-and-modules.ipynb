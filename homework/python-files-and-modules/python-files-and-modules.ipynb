{
 "cells": [
  {
   "cell_type": "code",
   "execution_count": null,
   "metadata": {},
   "outputs": [],
   "source": [
    "import json\n",
    "\n",
    "purchases = {}\n",
    "\n",
    "with open('purchase_log.txt') as purchase_log_file:\n",
    "  purchase_log_file.readline()\n",
    "  \n",
    "  for log_string in purchase_log_file:\n",
    "    log = json.loads(log_string)\n",
    "    \n",
    "    purchases[log['user_id']] = log['category']"
   ]
  },
  {
   "cell_type": "code",
   "execution_count": null,
   "metadata": {},
   "outputs": [],
   "source": [
    "with open('visit_log.csv') as visit_log_file:\n",
    "  with open('funnels.csv', 'w') as funnels_file:\n",
    "    visit_log_file.readline()\n",
    "    \n",
    "    funnels_file.write('user_id,source,category\\n')\n",
    "  \n",
    "    for log_string in visit_log_file:\n",
    "      user_id, source = log_string.strip().split(',')\n",
    "      \n",
    "      if user_id in purchases.keys():\n",
    "        funnels_file.write(f'{user_id},{source},{purchases[user_id]}\\n')"
   ]
  }
 ],
 "metadata": {
  "kernelspec": {
   "display_name": "Python 3",
   "language": "python",
   "name": "python3"
  },
  "language_info": {
   "codemirror_mode": {
    "name": "ipython",
    "version": 3
   },
   "file_extension": ".py",
   "mimetype": "text/x-python",
   "name": "python",
   "nbconvert_exporter": "python",
   "pygments_lexer": "ipython3",
   "version": "3.9.1"
  }
 },
 "nbformat": 4,
 "nbformat_minor": 4
}
