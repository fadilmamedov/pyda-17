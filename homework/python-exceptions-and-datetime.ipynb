{
 "cells": [
  {
   "cell_type": "markdown",
   "metadata": {},
   "source": [
    "### Task 1"
   ]
  },
  {
   "cell_type": "code",
   "execution_count": 35,
   "metadata": {},
   "outputs": [],
   "source": [
    "from datetime import datetime\n",
    "from datetime import timedelta"
   ]
  },
  {
   "cell_type": "code",
   "execution_count": 6,
   "metadata": {},
   "outputs": [
    {
     "data": {
      "text/plain": [
       "datetime.datetime(2002, 10, 2, 0, 0)"
      ]
     },
     "execution_count": 6,
     "metadata": {},
     "output_type": "execute_result"
    }
   ],
   "source": [
    "# The Moscow Times - Wednesday, October 2, 2002\n",
    "theMoscowTimesTime = datetime.strptime('Wednesday, October 2, 2002', '%A, %B %d, %Y')\n",
    "theMoscowTimesTime"
   ]
  },
  {
   "cell_type": "code",
   "execution_count": 5,
   "metadata": {},
   "outputs": [
    {
     "data": {
      "text/plain": [
       "datetime.datetime(2013, 10, 11, 0, 0)"
      ]
     },
     "execution_count": 5,
     "metadata": {},
     "output_type": "execute_result"
    }
   ],
   "source": [
    "# The Guardian - Friday, 11.10.13\n",
    "theGuardianTime = datetime.strptime('Friday, 11.10.13', '%A, %d.%m.%y')\n",
    "theGuardianTime"
   ]
  },
  {
   "cell_type": "code",
   "execution_count": 7,
   "metadata": {},
   "outputs": [
    {
     "data": {
      "text/plain": [
       "datetime.datetime(1977, 8, 18, 0, 0)"
      ]
     },
     "execution_count": 7,
     "metadata": {},
     "output_type": "execute_result"
    }
   ],
   "source": [
    "# Daily News - Thursday, 18 August 1977\n",
    "dailyNewsTime = datetime.strptime('Thursday, 18 August 1977', '%A, %d %B %Y')\n",
    "dailyNewsTime"
   ]
  },
  {
   "cell_type": "markdown",
   "metadata": {},
   "source": [
    "### Task 2"
   ]
  },
  {
   "cell_type": "code",
   "execution_count": 26,
   "metadata": {},
   "outputs": [],
   "source": [
    "stream = ['2018-04-02', '2018-02-29', '2018-19-02']\n",
    "\n",
    "def isDateValid(date_string):\n",
    "  '''\n",
    "  Returns True if provided date string is correct and False otherwise\n",
    "  '''\n",
    "  try:\n",
    "    date = datetime.strptime(date_string, '%Y-%m-%d')\n",
    "    return True\n",
    "  except:\n",
    "    return False"
   ]
  },
  {
   "cell_type": "code",
   "execution_count": 29,
   "metadata": {},
   "outputs": [
    {
     "name": "stdout",
     "output_type": "stream",
     "text": [
      "2018-04-02 True\n",
      "2018-02-29 False\n",
      "2018-19-02 False\n"
     ]
    }
   ],
   "source": [
    "for date_string in stream:\n",
    "  print(date_string, isDateValid(date_string))"
   ]
  },
  {
   "cell_type": "markdown",
   "metadata": {},
   "source": [
    "### Task 3"
   ]
  },
  {
   "cell_type": "code",
   "execution_count": 45,
   "metadata": {},
   "outputs": [],
   "source": [
    "def date_range(start_date_string, end_date_string):\n",
    "  '''\n",
    "  Returns a list of dates between start_date and end_date (both given as strings)\n",
    "  '''\n",
    "  date_format = '%Y-%m-%d';\n",
    "  \n",
    "  try:\n",
    "    start_date = datetime.strptime(start_date_string, date_format)\n",
    "    end_date = datetime.strptime(end_date_string, date_format)\n",
    "    \n",
    "    if start_date > end_date:\n",
    "      return []\n",
    "    \n",
    "    result = []\n",
    "    current_date = start_date\n",
    "    \n",
    "    while current_date <= end_date:\n",
    "      result.append(current_date.strftime(date_format))\n",
    "      current_date += timedelta(days=1)\n",
    "      \n",
    "    return result\n",
    "\n",
    "  except:\n",
    "    return []"
   ]
  },
  {
   "cell_type": "code",
   "execution_count": 44,
   "metadata": {},
   "outputs": [
    {
     "name": "stdin",
     "output_type": "stream",
     "text": [
      "Enter start date (in YYYY-MM-DD format): 2020-10-18\n",
      "Enter end date (in YYYY-MM-DD format): 2020-10-22\n"
     ]
    },
    {
     "name": "stdout",
     "output_type": "stream",
     "text": [
      "['2020-10-18', '2020-10-19', '2020-10-20', '2020-10-21', '2020-10-22']\n"
     ]
    }
   ],
   "source": [
    "start_date = input('Enter start date (in YYYY-MM-DD format):')\n",
    "end_date = input('Enter end date (in YYYY-MM-DD format):')\n",
    "\n",
    "print(date_range(start_date, end_date))"
   ]
  },
  {
   "cell_type": "markdown",
   "metadata": {},
   "source": [
    "### Task 4"
   ]
  },
  {
   "cell_type": "code",
   "execution_count": 61,
   "metadata": {},
   "outputs": [],
   "source": [
    "DEFAULT_USER_COUNT = 3\n",
    "def delete_and_return_last_user(region, default_list=['A100', 'A101', 'A102']):\n",
    "  '''\n",
    "  Удаляет из списка default_list последнего пользователя\n",
    "  и возвращает ID нового последнего пользователя.\n",
    "  '''\n",
    "  element_to_delete = default_list[-1]\n",
    "  default_list.remove(element_to_delete)\n",
    "  \n",
    "  print(default_list)\n",
    "  \n",
    "  return default_list[DEFAULT_USER_COUNT-2]"
   ]
  },
  {
   "cell_type": "markdown",
   "metadata": {},
   "source": [
    "> Что значит ошибка list index out of range?\n",
    "\n",
    "Эта ошибка означает, что в процессе выполнения функции мы попытались обратиться к элементу списка, большему, чем размер этого списка\n",
    "\n",
    "> Почему при первом запуске функция работает корректно, а при втором - нет?\n",
    "\n",
    "При запуске функции мы удаляем последний элемент списка `default_list` и возвращаем элемент с индексом `DEFAULT_USER_COUNT - 2`, что будет всегда равно 1 (то есть по факту второй элемент списка с индексом 1)\n",
    "\n",
    "После первого запуска функции список `default_list` выглядит так: `['A100', 'A101']`\n",
    "После второго уже так: `['A100']`, то есть в списке остался всего один элемент. Однако мы по-прежнему пытаемся вернуть из функции элемент с индексом `DEFAULT_USER_COUNT - 2`, то есть 1, которого не существует."
   ]
  },
  {
   "cell_type": "code",
   "execution_count": null,
   "metadata": {},
   "outputs": [],
   "source": []
  }
 ],
 "metadata": {
  "kernelspec": {
   "display_name": "Python 3",
   "language": "python",
   "name": "python3"
  },
  "language_info": {
   "codemirror_mode": {
    "name": "ipython",
    "version": 3
   },
   "file_extension": ".py",
   "mimetype": "text/x-python",
   "name": "python",
   "nbconvert_exporter": "python",
   "pygments_lexer": "ipython3",
   "version": "3.9.1"
  }
 },
 "nbformat": 4,
 "nbformat_minor": 4
}
