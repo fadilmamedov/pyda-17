{
 "cells": [
  {
   "cell_type": "markdown",
   "metadata": {},
   "source": [
    "### Task 1"
   ]
  },
  {
   "cell_type": "code",
   "execution_count": 27,
   "metadata": {},
   "outputs": [
    {
     "data": {
      "text/plain": [
       "{15, 35, 54, 98, 119, 213}"
      ]
     },
     "execution_count": 27,
     "metadata": {},
     "output_type": "execute_result"
    }
   ],
   "source": [
    "users_ids = {\n",
    "  'user1': [213, 213, 213, 15, 213],\n",
    "  'user2': [54, 54, 119, 119, 119],\n",
    "  'user3': [213, 98, 98, 35]\n",
    "}\n",
    "\n",
    "unique_ids = set()\n",
    "\n",
    "for user, user_ids in users_ids.items():\n",
    "  unique_ids = unique_ids | set(user_ids)\n",
    "  \n",
    "unique_ids"
   ]
  },
  {
   "cell_type": "markdown",
   "metadata": {},
   "source": [
    "### Task 2"
   ]
  },
  {
   "cell_type": "code",
   "execution_count": 49,
   "metadata": {},
   "outputs": [
    {
     "name": "stdout",
     "output_type": "stream",
     "text": [
      "Search queries that include 2 words: 42.86%\n",
      "Search queries that include 3 words: 57.14%\n"
     ]
    }
   ],
   "source": [
    "queries = [\n",
    "  'смотреть сериалы онлайн',\n",
    "  'новости спорта',\n",
    "  'афиша кино',\n",
    "  'курс доллара',\n",
    "  'сериалы этим летом',\n",
    "  'курс по питону',\n",
    "  'сериалы про спорт',\n",
    "]\n",
    "\n",
    "word_count_queries_dict = {}\n",
    "\n",
    "for query in queries:\n",
    "  query_word_count = len(query.split(' '))\n",
    "  \n",
    "  word_count_queries_dict.setdefault(query_word_count, 0)\n",
    "  word_count_queries_dict[query_word_count] += 1\n",
    "  \n",
    "for word_count in sorted(word_count_queries_dict):\n",
    "  queries_count = word_count_queries_dict[word_count]\n",
    "  queries_percent = queries_count / len(queries) * 100\n",
    "  \n",
    "  print('Search queries that include {} words: {:.2f}%'.format(word_count, queries_percent))"
   ]
  },
  {
   "cell_type": "markdown",
   "metadata": {},
   "source": [
    "### Task 3"
   ]
  },
  {
   "cell_type": "code",
   "execution_count": 59,
   "metadata": {},
   "outputs": [
    {
     "data": {
      "text/plain": [
       "{'vk': {'revenue': 103, 'cost': 98, 'ROI': 5.102040816326525},\n",
       " 'yandex': {'revenue': 179, 'cost': 153, 'ROI': 16.99346405228759},\n",
       " 'facebook': {'revenue': 103, 'cost': 110, 'ROI': -6.36363636363636},\n",
       " 'adwords': {'revenue': 35, 'cost': 34, 'ROI': 2.941176470588225},\n",
       " 'twitter': {'revenue': 11, 'cost': 24, 'ROI': -54.16666666666667}}"
      ]
     },
     "execution_count": 59,
     "metadata": {},
     "output_type": "execute_result"
    }
   ],
   "source": [
    "advert_campaigns = {\n",
    "  'vk': {\n",
    "    'revenue': 103,\n",
    "    'cost': 98\n",
    "  },\n",
    "  'yandex': {\n",
    "    'revenue': 179,\n",
    "    'cost': 153\n",
    "  },\n",
    "  'facebook': {\n",
    "    'revenue': 103,\n",
    "    'cost': 110\n",
    "  },\n",
    "  'adwords': {\n",
    "    'revenue': 35,\n",
    "    'cost': 34\n",
    "  },\n",
    "  'twitter': {\n",
    "    'revenue': 11,\n",
    "    'cost': 24\n",
    "  }\n",
    "}\n",
    "\n",
    "for source_name, campaign_info in advert_campaigns.items():\n",
    "  campaign_info['ROI'] = (campaign_info[revenue] / campaign_info[cost] - 1) * 100\n",
    "  \n",
    "advert_campaigns"
   ]
  },
  {
   "cell_type": "markdown",
   "metadata": {},
   "source": [
    "### Task 4"
   ]
  },
  {
   "cell_type": "code",
   "execution_count": 23,
   "metadata": {},
   "outputs": [
    {
     "data": {
      "text/plain": [
       "'Maximum value is on advertisement channel: vk'"
      ]
     },
     "execution_count": 23,
     "metadata": {},
     "output_type": "execute_result"
    }
   ],
   "source": [
    "sales_stats = {\n",
    "  'facebook': 55,\n",
    "  'yandex': 115,\n",
    "  'vk': 120,\n",
    "  'google': 99,\n",
    "  'email': 42,\n",
    "  'ok': 98\n",
    "}\n",
    "\n",
    "max_value = max(sales_stats.values())\n",
    "\n",
    "chanel_names = [name for name, value in sales_stats.items() if value == max_value]\n",
    "\n",
    "f'Maximum value is on advertisement channel: {\",\".join(chanel_names)}'"
   ]
  },
  {
   "cell_type": "markdown",
   "metadata": {},
   "source": [
    "### Task 5"
   ]
  },
  {
   "cell_type": "code",
   "execution_count": 136,
   "metadata": {},
   "outputs": [
    {
     "data": {
      "text/plain": [
       "{'2018-01-01': {'yandex': {'cpc': 100}}}"
      ]
     },
     "execution_count": 136,
     "metadata": {},
     "output_type": "execute_result"
    }
   ],
   "source": [
    "source_list = ['2018-01-01', 'yandex', 'cpc', 100]\n",
    "# source_list = ['a', 'b', 'c', 'd', 'e', 'f']\n",
    "\n",
    "pointer = {}\n",
    "result = pointer\n",
    "\n",
    "for value in source_list[0:-2]:\n",
    "  pointer[value] = pointer = {}\n",
    "\n",
    "last_element_name, last_element_value = source_list[-2:]\n",
    "\n",
    "pointer[last_element_name] = last_element_value\n",
    "\n",
    "result"
   ]
  },
  {
   "cell_type": "markdown",
   "metadata": {},
   "source": [
    "### Task 6"
   ]
  },
  {
   "cell_type": "code",
   "execution_count": 140,
   "metadata": {},
   "outputs": [
    {
     "name": "stdin",
     "output_type": "stream",
     "text": [
      "Enter portion count: 3\n"
     ]
    },
    {
     "data": {
      "text/plain": [
       "3"
      ]
     },
     "execution_count": 140,
     "metadata": {},
     "output_type": "execute_result"
    }
   ],
   "source": [
    "cook_book = {\n",
    "  'салат': [\n",
    "    { 'ingridient_name': 'сыр', 'quantity': 50, 'measure': 'гр' },\n",
    "    { 'ingridient_name': 'томаты', 'quantity': 2, 'measure': 'шт' },\n",
    "    { 'ingridient_name': 'огурцы', 'quantity': 20, 'measure': 'гр' },\n",
    "    { 'ingridient_name': 'маслины', 'quantity': 10, 'measure': 'гр' },\n",
    "    { 'ingridient_name': 'оливковое масло', 'quantity': 20, 'measure': 'мл' },\n",
    "    { 'ingridient_name': 'салат', 'quantity': 10, 'measure': 'гр' },\n",
    "    { 'ingridient_name': 'перец', 'quantity': 20, 'measure': 'гр' }\n",
    "  ],\n",
    "  'пицца': [\n",
    "    { 'ingridient_name': 'сыр', 'quantity': 20, 'measure': 'гр' },\n",
    "    { 'ingridient_name': 'колбаса', 'quantity': 30, 'measure': 'гр' },\n",
    "    { 'ingridient_name': 'бекон', 'quantity': 30, 'measure': 'гр' },\n",
    "    { 'ingridient_name': 'оливки', 'quantity': 10, 'measure': 'гр' },\n",
    "    { 'ingridient_name': 'томаты', 'quantity': 20, 'measure': 'гр' },\n",
    "    { 'ingridient_name': 'тесто', 'quantity': 100, 'measure': 'гр' },   \n",
    "  ],\n",
    "  'лимонад': [\n",
    "    { 'ingridient_name': 'лимон', 'quantity': 1, 'measure': 'шт' },\n",
    "    { 'ingridient_name': 'вода', 'quantity': 200, 'measure': 'мл' },\n",
    "    { 'ingridient_name': 'сахар', 'quantity': 10, 'measure': 'гр' },\n",
    "    { 'ingridient_name': 'лайм', 'quantity': 20, 'measure': 'гр' },    \n",
    "  ]\n",
    "}\n",
    "\n",
    "portion_count = int(input('Enter portion count:'))\n",
    "portion_count"
   ]
  },
  {
   "cell_type": "code",
   "execution_count": 169,
   "metadata": {},
   "outputs": [
    {
     "name": "stdout",
     "output_type": "stream",
     "text": [
      "Салат\n",
      "Сыр: 150 гр\n",
      "Томаты: 6 шт\n",
      "Огурцы: 60 гр\n",
      "Маслины: 30 гр\n",
      "Оливковое масло: 60 мл\n",
      "Салат: 30 гр\n",
      "Перец: 60 гр\n",
      "\n",
      "Пицца\n",
      "Сыр: 60 гр\n",
      "Колбаса: 90 гр\n",
      "Бекон: 90 гр\n",
      "Оливки: 30 гр\n",
      "Томаты: 60 гр\n",
      "Тесто: 300 гр\n",
      "\n",
      "Лимонад\n",
      "Лимон: 3 шт\n",
      "Вода: 600 мл\n",
      "Сахар: 30 гр\n",
      "Лайм: 60 гр\n",
      "\n"
     ]
    }
   ],
   "source": [
    "for dish_name, recipe in cook_book.items():\n",
    "  print(dish_name.capitalize())\n",
    "  \n",
    "  for ingridients in recipe:\n",
    "    name = ingridients['ingridient_name'].capitalize()\n",
    "    quantity = ingridients['quantity'] * portion_count\n",
    "    measure_name = ingridients['measure']\n",
    "    \n",
    "    print(f'{name}: {quantity} {measure_name}')\n",
    "  \n",
    "  print()"
   ]
  },
  {
   "cell_type": "code",
   "execution_count": null,
   "metadata": {},
   "outputs": [],
   "source": []
  }
 ],
 "metadata": {
  "kernelspec": {
   "display_name": "Python 3",
   "language": "python",
   "name": "python3"
  },
  "language_info": {
   "codemirror_mode": {
    "name": "ipython",
    "version": 3
   },
   "file_extension": ".py",
   "mimetype": "text/x-python",
   "name": "python",
   "nbconvert_exporter": "python",
   "pygments_lexer": "ipython3",
   "version": "3.9.1"
  }
 },
 "nbformat": 4,
 "nbformat_minor": 4
}
