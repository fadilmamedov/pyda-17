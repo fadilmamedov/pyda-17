{
 "cells": [
  {
   "cell_type": "markdown",
   "metadata": {},
   "source": [
    "### Task 1"
   ]
  },
  {
   "cell_type": "code",
   "execution_count": 26,
   "metadata": {},
   "outputs": [],
   "source": [
    "import requests\n",
    "\n",
    "def get_max_exchange_rate_currency_name():\n",
    "  response = requests.get('https://www.cbr-xml-daily.ru/daily_json.js').json()\n",
    "  valutes = response['Valute']\n",
    "  \n",
    "  result = max(valutes.values(), key=lambda x: x['Value'])\n",
    "  \n",
    "  return result['Name']"
   ]
  },
  {
   "cell_type": "code",
   "execution_count": 27,
   "metadata": {},
   "outputs": [
    {
     "data": {
      "text/plain": [
       "'СДР (специальные права заимствования)'"
      ]
     },
     "execution_count": 27,
     "metadata": {},
     "output_type": "execute_result"
    }
   ],
   "source": [
    "get_max_exchange_rate_currency_name()"
   ]
  },
  {
   "cell_type": "markdown",
   "metadata": {},
   "source": [
    "### Task 2"
   ]
  },
  {
   "cell_type": "code",
   "execution_count": 5,
   "metadata": {},
   "outputs": [
    {
     "data": {
      "text/plain": [
       "-0.06080000000000041"
      ]
     },
     "execution_count": 5,
     "metadata": {},
     "output_type": "execute_result"
    }
   ],
   "source": [
    "from exchange import Rate\n",
    "\n",
    "rate = Rate(diff=True)\n",
    "rate.usd()"
   ]
  },
  {
   "cell_type": "markdown",
   "metadata": {},
   "source": [
    "### Task 3"
   ]
  },
  {
   "cell_type": "code",
   "execution_count": 6,
   "metadata": {},
   "outputs": [],
   "source": [
    "class Employee:\n",
    "  def __init__(self, name, seniority):\n",
    "    self.name = name\n",
    "    self.seniority = seniority\n",
    "        \n",
    "    self.grade = 1\n",
    "    \n",
    "  def grade_up(self):\n",
    "    \"\"\"Повышает уровень сотрудника\"\"\"\n",
    "    self.grade += 1\n",
    "    \n",
    "  def publish_grade(self):\n",
    "    \"\"\"Публикация результатов аккредитации сотрудников\"\"\"\n",
    "    print(self.name, self.grade)\n",
    "    \n",
    "  def check_if_it_is_time_for_upgrade(self):\n",
    "    pass"
   ]
  },
  {
   "cell_type": "code",
   "execution_count": 7,
   "metadata": {},
   "outputs": [],
   "source": [
    "class Developer(Employee):\n",
    "  def __init__(self, name, seniority):\n",
    "    super().__init__(name, seniority)\n",
    "    \n",
    "  def check_if_it_is_time_for_upgrade(self):\n",
    "    # для каждой аккредитации увеличиваем счетчик на 1\n",
    "    # пока считаем, что все разработчики проходят аккредитацию\n",
    "    self.seniority += 1\n",
    "\n",
    "    # условие повышения сотрудника из презентации\n",
    "    if self.seniority % 5 == 0:\n",
    "        self.grade_up()\n",
    "\n",
    "    # публикация результатов\n",
    "    return self.publish_grade()"
   ]
  },
  {
   "cell_type": "code",
   "execution_count": 44,
   "metadata": {},
   "outputs": [],
   "source": [
    "class Designer(Employee):\n",
    "  def __init__(self, name, seniority):\n",
    "    super().__init__(name, seniority)\n",
    "    \n",
    "    self.awards_count = 2\n",
    "    self.seniority += self.awards_count * 2\n",
    "    \n",
    "    if self.seniority % 7 == 0:\n",
    "      self.grade_up()\n",
    "      \n",
    "  def increase_seniority(self):\n",
    "    self.seniority += 1\n",
    "    \n",
    "    if self.seniority % 7 == 0:\n",
    "      self.grade_up()\n",
    "    \n",
    "  def add_award(self):\n",
    "    self.awards_count += 1\n",
    "    \n",
    "    self.increase_seniority()\n",
    "    self.increase_seniority()\n",
    "    \n",
    "  def check_if_it_is_time_for_upgrade(self):\n",
    "    self.increase_seniority()\n",
    "      \n",
    "    return self.publish_grade()"
   ]
  },
  {
   "cell_type": "code",
   "execution_count": 50,
   "metadata": {},
   "outputs": [
    {
     "name": "stdout",
     "output_type": "stream",
     "text": [
      "Fadil Mamedov 2\n",
      "Fadil Mamedov 2\n",
      "Fadil Mamedov 2\n",
      "Fadil Mamedov 3\n",
      "Fadil Mamedov 3\n",
      "Fadil Mamedov 3\n",
      "Fadil Mamedov 3\n",
      "Fadil Mamedov 3\n",
      "Fadil Mamedov 3\n",
      "Fadil Mamedov 3\n",
      "Fadil Mamedov 4\n",
      "Fadil Mamedov 4\n",
      "Fadil Mamedov 4\n",
      "Fadil Mamedov 4\n"
     ]
    }
   ],
   "source": [
    "designer = Designer('Fadil Mamedov', 2)\n",
    "\n",
    "designer.add_award()\n",
    "designer.publish_grade()\n",
    "\n",
    "designer.add_award()\n",
    "designer.publish_grade()\n",
    "\n",
    "designer.add_award()\n",
    "designer.publish_grade()\n",
    "\n",
    "designer.add_award()\n",
    "designer.publish_grade()\n",
    "\n",
    "for i in range(10):\n",
    "  designer.check_if_it_is_time_for_upgrade()"
   ]
  },
  {
   "cell_type": "code",
   "execution_count": null,
   "metadata": {},
   "outputs": [],
   "source": []
  }
 ],
 "metadata": {
  "kernelspec": {
   "display_name": "Python 3",
   "language": "python",
   "name": "python3"
  },
  "language_info": {
   "codemirror_mode": {
    "name": "ipython",
    "version": 3
   },
   "file_extension": ".py",
   "mimetype": "text/x-python",
   "name": "python",
   "nbconvert_exporter": "python",
   "pygments_lexer": "ipython3",
   "version": "3.9.1"
  }
 },
 "nbformat": 4,
 "nbformat_minor": 4
}
