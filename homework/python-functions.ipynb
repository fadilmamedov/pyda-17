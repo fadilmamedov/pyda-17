{
 "cells": [
  {
   "cell_type": "code",
   "execution_count": null,
   "metadata": {},
   "outputs": [],
   "source": [
    "documents = [\n",
    "  {\n",
    "    'type': 'passport',\n",
    "    'number': '2207 876234',\n",
    "    'name': 'Василий Гупкин',\n",
    "  },\n",
    "  {\n",
    "    'type': 'invoice',\n",
    "    'number': '11-2',\n",
    "    'name': 'Геннадий Покемонов',\n",
    "  },\n",
    "  {\n",
    "    'type': 'insurance',\n",
    "    'number': '10006',\n",
    "    'name': 'Аристарх Павлов',\n",
    "  },\n",
    "]\n",
    "\n",
    "directories = {\n",
    " '1': ['2207 876234', '11-2'],\n",
    " '2': ['10006'],\n",
    " '3': []\n",
    "}"
   ]
  },
  {
   "cell_type": "code",
   "execution_count": null,
   "metadata": {},
   "outputs": [],
   "source": [
    "def get_dir_list():\n",
    "  return ', '.join(directories.keys())"
   ]
  },
  {
   "cell_type": "code",
   "execution_count": null,
   "metadata": {},
   "outputs": [],
   "source": [
    "def print_document_owner_name(document):\n",
    "  '''\n",
    "  Prints document owner name\n",
    "  '''\n",
    "  owner_name = document['name']\n",
    "  print(f'Owner of the document: {owner_name}')"
   ]
  },
  {
   "cell_type": "code",
   "execution_count": null,
   "metadata": {},
   "outputs": [],
   "source": [
    "def get_document_by_number(number):\n",
    "  '''\n",
    "  Returns document by it's number\n",
    "  '''\n",
    "  for document in documents:\n",
    "    if document['number'] == number:\n",
    "      return document"
   ]
  },
  {
   "cell_type": "code",
   "execution_count": null,
   "metadata": {},
   "outputs": [],
   "source": [
    "def get_document_index_by_number(number):\n",
    "  '''\n",
    "  Returns document index by it's number\n",
    "  '''\n",
    "  for index, document in enumerate(documents):\n",
    "    if document['number'] == number:\n",
    "      return index"
   ]
  },
  {
   "cell_type": "code",
   "execution_count": null,
   "metadata": {},
   "outputs": [],
   "source": [
    "def get_document_directory_number(doc_number):\n",
    "  '''\n",
    "  Returns directory number where a given document is stored\n",
    "  '''\n",
    "  for dir_number, dir_doc_numbers in directories.items():\n",
    "    if doc_number in dir_doc_numbers:\n",
    "      return dir_number"
   ]
  },
  {
   "cell_type": "code",
   "execution_count": null,
   "metadata": {},
   "outputs": [],
   "source": [
    "def find_document_owner():\n",
    "  '''\n",
    "  Asks for document number through user input and prints owner name of that document\n",
    "  '''\n",
    "  document_number = input('Enter document number:')\n",
    "  \n",
    "  document = get_document_by_number(document_number)\n",
    "  if document:\n",
    "    print_document_owner_name(document)\n",
    "    return\n",
    "  \n",
    "  print('Document was not found in the database')"
   ]
  },
  {
   "cell_type": "code",
   "execution_count": null,
   "metadata": {},
   "outputs": [],
   "source": [
    "def find_document_shelf():\n",
    "  '''\n",
    "  Asks for document number through user input and prints a directory number where provided document is stored\n",
    "  '''\n",
    "  document_number = input('Enter document number:')\n",
    "  \n",
    "  dir_number = get_document_directory_number(document_number)\n",
    "  if dir_number:\n",
    "    print(f'Document is stored in directory number: {dir_number}')\n",
    "  else:\n",
    "    print('Document was not found in the database')"
   ]
  },
  {
   "cell_type": "code",
   "execution_count": null,
   "metadata": {},
   "outputs": [],
   "source": [
    "def print_all_documents_information():\n",
    "  '''\n",
    "  Prints information about all document in the database including directory number\n",
    "  '''\n",
    "  for document in documents:\n",
    "    doc_type = document['type']\n",
    "    doc_number = document['number']\n",
    "    doc_owner_name = document['name']\n",
    "\n",
    "    dir_number = get_document_directory_number(doc_number)\n",
    "    \n",
    "    print(f'N{doc_number}, type: {doc_type}, owner: {doc_owner_name}, directory number: {dir_number}')"
   ]
  },
  {
   "cell_type": "code",
   "execution_count": null,
   "metadata": {},
   "outputs": [],
   "source": [
    "def add_directory():\n",
    "  '''\n",
    "  Adds a new directory using a given number\n",
    "  '''\n",
    "  dir_number = input('Enter a directory number:')\n",
    "  \n",
    "  if dir_number in directories.keys():\n",
    "    print('Directory already exists. Current directories are:', get_dir_list())\n",
    "    return\n",
    "  \n",
    "  directories[dir_number] = []\n",
    "  print('Directory added. Current directories are:', get_dir_list())"
   ]
  },
  {
   "cell_type": "code",
   "execution_count": null,
   "metadata": {},
   "outputs": [],
   "source": [
    "def delete_directory():\n",
    "  '''\n",
    "  Deletes directory by a given number (if it's empty)\n",
    "  '''\n",
    "  dir_number = input('Enter a directory number:')\n",
    "  \n",
    "  if (dir_number not in directories.keys()):\n",
    "    print('Directory doesn\\'t exist. Current directories are: ', get_dir_list())\n",
    "    return\n",
    "  \n",
    "  dir_documents = directories[dir_number]\n",
    "  \n",
    "  if dir_documents:\n",
    "    print('Directory contains documents, delete them first. Current directories are: ', get_dir_list())\n",
    "    return\n",
    "  \n",
    "  del directories[dir_number]\n",
    "  print('Directory successfully deleted. Current directories are: ', get_dir_list())"
   ]
  },
  {
   "cell_type": "code",
   "execution_count": null,
   "metadata": {},
   "outputs": [],
   "source": [
    "def add_document():\n",
    "  '''\n",
    "  Adds a new document to the database\n",
    "  '''\n",
    "  \n",
    "  document_number = input('Enter document number:')\n",
    "  document_type = input('Enter document type:')\n",
    "  document_owner_name = input('Enter document owner:')\n",
    "  document_directory = input('Enter directory name:')\n",
    "  \n",
    "  if document_directory not in directories.keys():\n",
    "    print('Directory doesn\\'t exist. Add a new directory using \"as\" command')\n",
    "    print('Current document list:')\n",
    "    print_all_documents_information()\n",
    "    return\n",
    "  \n",
    "  documents.append({\n",
    "    'type': document_type,\n",
    "    'number': document_number,\n",
    "    'name': document_owner_name,\n",
    "  })\n",
    "  \n",
    "  directories[document_directory].append(document_number)\n",
    "  \n",
    "  print('Current document list:')\n",
    "  print_all_documents_information()"
   ]
  },
  {
   "cell_type": "code",
   "execution_count": null,
   "metadata": {},
   "outputs": [],
   "source": [
    "def delete_document():\n",
    "  '''\n",
    "  Deletes a document from the database\n",
    "  '''\n",
    "  document_number = input('Enter document number:')\n",
    "  \n",
    "  document = get_document_by_number(document_number)\n",
    "  \n",
    "  if not document:\n",
    "    print('Document was not found in the database')\n",
    "    print('Current document list')\n",
    "    print_all_documents_information()\n",
    "    return\n",
    "  \n",
    "  documents.remove(document)\n",
    "  \n",
    "  document_dir_number = get_document_directory_number(document_number)\n",
    "  directories[document_dir_number].remove(document_number)\n",
    "  \n",
    "  print('Document deleted')\n",
    "  print('Current document list')\n",
    "  print_all_documents_information()"
   ]
  },
  {
   "cell_type": "code",
   "execution_count": null,
   "metadata": {},
   "outputs": [],
   "source": [
    "def move_document():\n",
    "  '''\n",
    "  Moves document from one directory to another one\n",
    "  '''\n",
    "  document_number = input('Enter document number:')\n",
    "  directory_number = input('Enter directory number:')\n",
    "  \n",
    "  document = get_document_by_number(document_number)\n",
    "  \n",
    "  if not document:\n",
    "    print('Document was not found in the database')\n",
    "    print('Current document list')\n",
    "    print_all_documents_information()\n",
    "    return\n",
    "  \n",
    "  if directory_number not in directories.keys():\n",
    "    print('Directory doesn\\'t exist. Current directories are: ', get_dir_list())\n",
    "    return\n",
    "  \n",
    "  document_current_directory_name = get_document_directory_number(document_number)\n",
    "  from_directory = directories[document_current_directory_name]\n",
    "  from_directory.remove(document_number)\n",
    "  \n",
    "  to_directory = directories[directory_number]\n",
    "  to_directory.append(document_number)\n",
    "  \n",
    "  print('Document moved')\n",
    "  print('Current document list:')\n",
    "  print_all_documents_information()"
   ]
  },
  {
   "cell_type": "code",
   "execution_count": null,
   "metadata": {},
   "outputs": [],
   "source": [
    "def handle_command(command_name):\n",
    "  '''\n",
    "  Given a command name invokes an appropriate handler\n",
    "  '''\n",
    "  if command_name == 'p':\n",
    "    find_document_owner()\n",
    "    return\n",
    "  \n",
    "  if command_name == 's':\n",
    "    find_document_shelf()\n",
    "    return\n",
    "  \n",
    "  if command_name == 'l':\n",
    "    print_all_documents_information()\n",
    "    return\n",
    "  \n",
    "  if command_name == 'as':\n",
    "    add_directory()\n",
    "    return\n",
    "  \n",
    "  if command_name == 'ds':\n",
    "    delete_directory()\n",
    "    return\n",
    "  \n",
    "  if command_name == 'ad':\n",
    "    add_document()\n",
    "    return\n",
    "  \n",
    "  if command_name == 'd':\n",
    "    delete_document()\n",
    "    return\n",
    "  \n",
    "  if command_name == 'm':\n",
    "    move_document()\n",
    "    return"
   ]
  },
  {
   "cell_type": "code",
   "execution_count": null,
   "metadata": {},
   "outputs": [],
   "source": [
    "command_name = ''\n",
    "\n",
    "while command_name != 'q':\n",
    "  command_name = input('Enter command:')\n",
    "  handle_command(command_name)"
   ]
  }
 ],
 "metadata": {
  "kernelspec": {
   "display_name": "Python 3",
   "language": "python",
   "name": "python3"
  },
  "language_info": {
   "codemirror_mode": {
    "name": "ipython",
    "version": 3
   },
   "file_extension": ".py",
   "mimetype": "text/x-python",
   "name": "python",
   "nbconvert_exporter": "python",
   "pygments_lexer": "ipython3",
   "version": "3.9.1"
  }
 },
 "nbformat": 4,
 "nbformat_minor": 4
}
