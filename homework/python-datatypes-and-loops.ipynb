{
 "metadata": {
  "language_info": {
   "codemirror_mode": {
    "name": "ipython",
    "version": 3
   },
   "file_extension": ".py",
   "mimetype": "text/x-python",
   "name": "python",
   "nbconvert_exporter": "python",
   "pygments_lexer": "ipython3",
   "version": "3.8.5-final"
  },
  "orig_nbformat": 2,
  "kernelspec": {
   "name": "python3",
   "display_name": "Python 3",
   "language": "python"
  }
 },
 "nbformat": 4,
 "nbformat_minor": 2,
 "cells": [
  {
   "source": [
    "### Task 1"
   ],
   "cell_type": "markdown",
   "metadata": {}
  },
  {
   "cell_type": "code",
   "execution_count": null,
   "metadata": {},
   "outputs": [],
   "source": [
    "word = input('Enter word: ')\n",
    "word"
   ]
  },
  {
   "cell_type": "code",
   "execution_count": null,
   "metadata": {},
   "outputs": [],
   "source": [
    "word_length = len(word)\n",
    "if word_length % 2 == 0:\n",
    "    print(word[word_length // 2 - 1], word[word_length // 2])\n",
    "else:\n",
    "    print(word[word_length // 2])"
   ]
  },
  {
   "source": [
    "### Task 2"
   ],
   "cell_type": "markdown",
   "metadata": {}
  },
  {
   "cell_type": "code",
   "execution_count": null,
   "metadata": {},
   "outputs": [],
   "source": [
    "numbers = []\n",
    "input_number = int(input('Enter number: '))\n",
    "\n",
    "while input_number != 0:\n",
    "    input_number = int(input('Enter number: '))\n",
    "    numbers.append(input_number)\n",
    "\n",
    "f'Result {sum(numbers)}'"
   ]
  },
  {
   "source": [
    "### Task 3"
   ],
   "cell_type": "markdown",
   "metadata": {}
  },
  {
   "cell_type": "code",
   "execution_count": null,
   "metadata": {},
   "outputs": [],
   "source": [
    "boys = ['Peter', 'Alex', 'John', 'Arthur', 'Richard']\n",
    "girls = ['Kate', 'Liza', 'Kira', 'Emma', 'Trisha']"
   ]
  },
  {
   "cell_type": "code",
   "execution_count": null,
   "metadata": {},
   "outputs": [],
   "source": [
    "boys_count = len(boys)\n",
    "girls_count = len(girls)\n",
    "\n",
    "if boys_count != girls_count:\n",
    "    print('Attentions, someone is going to be without a pair!')\n",
    "else:\n",
    "    print('Ideal pairs:')\n",
    "    pairs = zip(boys, girls)\n",
    "\n",
    "    for pair in pairs:\n",
    "        boy, girl = pair\n",
    "        print(f'{boy} and {girl}')"
   ]
  },
  {
   "source": [
    "### Task 4"
   ],
   "cell_type": "markdown",
   "metadata": {}
  },
  {
   "cell_type": "code",
   "execution_count": null,
   "metadata": {},
   "outputs": [],
   "source": [
    "countries_temperatures = [\n",
    "    ['Thailand', [75.2, 77, 78.8, 73.4, 68, 75.2, 77]],\n",
    "    ['Germany', [57.2, 55.4, 59, 59, 53.6]],\n",
    "    ['Russia', [35.6, 37.4, 39.2, 41, 42.8, 39.2, 35.6]],\n",
    "    ['Poland', [50, 50, 53.6, 57.2, 55.4, 55.4]]\n",
    "]\n",
    "\n",
    "print('Average temperature in countries (in Celsius):')\n",
    "\n",
    "for country, country_temperatures in countries_temperatures:\n",
    "    country_temperatures_in_celsius = []\n",
    "\n",
    "    for single_temperature in country_temperatures:\n",
    "        country_temperatures_in_celsius.append((single_temperature - 32) * 5 / 9)\n",
    "    \n",
    "    average_temperature_in_celsius = sum(country_temperatures_in_celsius) / len(country_temperatures_in_celsius)\n",
    "\n",
    "    print(country, '{:.1f} С'.format(average_temperature_in_celsius))"
   ]
  },
  {
   "source": [
    "### Task 5"
   ],
   "cell_type": "markdown",
   "metadata": {}
  },
  {
   "cell_type": "code",
   "execution_count": null,
   "metadata": {},
   "outputs": [],
   "source": [
    "log_stream = [\n",
    "    '2018-01-01,user1,3',\n",
    "    '2018-01-07,user1,4',\n",
    "    '2018-03-29,user1,1',\n",
    "    '2018-04-04,user1,13',\n",
    "    '2018-01-05,user2,7',\n",
    "    '2018-06-14,user3,4',\n",
    "    '2018-07-02,user3,10',\n",
    "    '2018-03-21,user4,19',\n",
    "    '2018-03-22,user4,4',\n",
    "    '2018-04-22,user4,8',\n",
    "    '2018-05-03,user4,9',\n",
    "    '2018-05-11,user4,11',\n",
    "]\n",
    "\n",
    "# log_stream = [\n",
    "#     '2018-01-01,user100,150',\n",
    "#     '2018-01-07,user99,205',\n",
    "#     '2018-03-29,user1001,81'\n",
    "# ]\n",
    "\n",
    "users = []\n",
    "page_views = []\n",
    "\n",
    "for log_entry in log_stream:\n",
    "    date, user_name, view_count = log_entry.split(',')\n",
    "\n",
    "    if user_name in users:\n",
    "        index = users.index(user_name)\n",
    "        page_views[index] += int(view_count)\n",
    "    else:\n",
    "        users.append(user_name)\n",
    "        page_views.append(int(view_count))\n",
    "\n",
    "print('Average page views for unique user:', '{:.2f}'.format(sum(page_views) / len(page_views)))"
   ]
  },
  {
   "source": [
    "### Task 6"
   ],
   "cell_type": "markdown",
   "metadata": {}
  },
  {
   "cell_type": "code",
   "execution_count": null,
   "metadata": {},
   "outputs": [],
   "source": [
    "numbers_string = input('Enter numbers:')\n",
    "numbers = []\n",
    "\n",
    "for number_string in numbers_string.split(' '):\n",
    "    numbers.append(int(number_string))\n",
    "\n",
    "numbers"
   ]
  },
  {
   "cell_type": "code",
   "execution_count": null,
   "metadata": {},
   "outputs": [],
   "source": [
    "unique_numbers = []\n",
    "not_unique_numbers = []\n",
    "\n",
    "for number in numbers:\n",
    "    if number not in unique_numbers:\n",
    "        unique_numbers.append(number)\n",
    "        continue;\n",
    "\n",
    "    if number not in not_unique_numbers:\n",
    "        not_unique_numbers.append(number)\n",
    "\n",
    "f'Result {sorted(not_unique_numbers)}'"
   ]
  },
  {
   "cell_type": "code",
   "execution_count": null,
   "metadata": {},
   "outputs": [],
   "source": []
  }
 ]
}