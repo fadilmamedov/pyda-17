{
 "metadata": {
  "language_info": {
   "codemirror_mode": {
    "name": "ipython",
    "version": 3
   },
   "file_extension": ".py",
   "mimetype": "text/x-python",
   "name": "python",
   "nbconvert_exporter": "python",
   "pygments_lexer": "ipython3",
   "version": "3.8.5-final"
  },
  "orig_nbformat": 2,
  "kernelspec": {
   "name": "python3",
   "display_name": "Python 3",
   "language": "python"
  }
 },
 "nbformat": 4,
 "nbformat_minor": 2,
 "cells": [
  {
   "source": [
    "### Task 1"
   ],
   "cell_type": "markdown",
   "metadata": {}
  },
  {
   "cell_type": "code",
   "execution_count": null,
   "metadata": {},
   "outputs": [],
   "source": [
    "phrase_1 = input('Input first phrase: ')\n",
    "print('First phrase:', phrase_1)"
   ]
  },
  {
   "cell_type": "code",
   "execution_count": null,
   "metadata": {},
   "outputs": [],
   "source": [
    "phrase_2 = input('Input second phrase: ')\n",
    "print('Second phrase:', phrase_2)"
   ]
  },
  {
   "cell_type": "code",
   "execution_count": null,
   "metadata": {},
   "outputs": [],
   "source": [
    "phrase_1_length = len(phrase_1)\n",
    "phrase_2_length = len(phrase_2)\n",
    "\n",
    "if phrase_1_length > phrase_2_length:\n",
    "    print('Phrase 1 is longer than phrase 2')\n",
    "elif phrase_1_length < phrase_2_length:\n",
    "    print('Phrase 2 is longer than phrase 1')\n",
    "else:\n",
    "    print('Phrases have the same length')"
   ]
  },
  {
   "source": [
    "### Task 2"
   ],
   "cell_type": "markdown",
   "metadata": {}
  },
  {
   "cell_type": "code",
   "execution_count": null,
   "metadata": {},
   "outputs": [],
   "source": [
    "year = int(input('Enter year: '))\n",
    "print('Year:', year)"
   ]
  },
  {
   "cell_type": "code",
   "execution_count": null,
   "metadata": {},
   "outputs": [],
   "source": [
    "if year % 400 == 0 or (year % 4 == 0 and year % 100 != 0):\n",
    "    print('Year is a leap year')\n",
    "else:\n",
    "    print('Year is not a leap year')"
   ]
  },
  {
   "source": [
    "### Task 3"
   ],
   "cell_type": "markdown",
   "metadata": {}
  },
  {
   "cell_type": "code",
   "execution_count": null,
   "metadata": {},
   "outputs": [],
   "source": [
    "birth_day = int(input('Enter your day of birth: '))\n",
    "print('Day of birth:', birth_day)\n",
    "# Valid options: January, February, March, April, May, June, July, August, September, October, November, December\n",
    "birth_month = input('Enter your month of birth: ')\n",
    "print('Month of birth:', birth_month)"
   ]
  },
  {
   "cell_type": "code",
   "execution_count": null,
   "metadata": {},
   "outputs": [],
   "source": [
    "if (\n",
    "    (birth_month == 'March' and 21 <= birth_day <= 31) or\n",
    "    (birth_month == 'April' and 1 <= birth_day <= 19)\n",
    "):\n",
    "    print('Your star sign is Aries (Овен)')\n",
    "elif (\n",
    "    (birth_month == 'April' and 20 <= birth_day <= 30) or\n",
    "    (birth_month == 'May' and 1 <= birth_day <= 20)\n",
    "):\n",
    "    print('Your star sign is Taurus (Телец)')\n",
    "elif (\n",
    "    (birth_month == 'May' and 21 <= birth_day <= 31) or\n",
    "    (birth_month == 'June' and 1 <= birth_day <= 20)\n",
    "):\n",
    "    print('Your star sign is Gemini (Близнецы)')\n",
    "elif (\n",
    "    (birth_month == 'June' and 21 <= birth_day <= 30) or\n",
    "    (birth_month == 'July' and 1 <= birth_day <= 22)\n",
    "):\n",
    "    print('Your star sign is Cancer (Рак)')\n",
    "elif (\n",
    "    (birth_month == 'July' and 23 <= birth_day <= 31) or\n",
    "    (birth_month == 'August' and 1 <= birth_day <= 22)\n",
    "):\n",
    "    print('Your star sign is Leo (Лев)')\n",
    "elif (\n",
    "    (birth_month == 'August' and 23 <= birth_day <= 31) or\n",
    "    (birth_month == 'September' and 1 <= birth_day <= 22)\n",
    "):\n",
    "    print('Your star sign is Virgo (Дева)')\n",
    "elif (\n",
    "    (birth_month == 'September' and 23 <= birth_day <= 30) or\n",
    "    (birth_month == 'October' and 1 <= birth_day <= 22)\n",
    "):\n",
    "    print('Your star sign is Libra (Весы)')\n",
    "elif (\n",
    "    (birth_month == 'October' and 23 <= birth_day <= 31) or\n",
    "    (birth_month == 'November' and 1 <= birth_day <= 21)\n",
    "):\n",
    "    print('Your star sign is Scorpio (Скорпион)')\n",
    "elif (\n",
    "    (birth_month == 'November' and 22 <= birth_day <= 30) or\n",
    "    (birth_month == 'December' and 1 <= birth_day <= 21)\n",
    "):\n",
    "    print('Your star sign is Sagittarius (Стрелец)')\n",
    "elif (\n",
    "    (birth_month == 'December' and 22 <= birth_day <= 31) or\n",
    "    (birth_month == 'January' and 1 <= birth_day <= 19)\n",
    "):\n",
    "    print('Your star sign is Capricorn (Козерог)')\n",
    "elif (\n",
    "    (birth_month == 'January' and 20 <= birth_day <= 31) or\n",
    "    (birth_month == 'February' and 1 <= birth_day <= 18)\n",
    "):\n",
    "    print('Your star sign is Aquarius (Водолей)')\n",
    "else:\n",
    "    print('Your star sign is Pisces (Рыбы)')"
   ]
  },
  {
   "source": [
    "### Task 4"
   ],
   "cell_type": "markdown",
   "metadata": {}
  },
  {
   "cell_type": "code",
   "execution_count": null,
   "metadata": {},
   "outputs": [],
   "source": [
    "width = int(input('Enter width (in cm): '))\n",
    "width"
   ]
  },
  {
   "cell_type": "code",
   "execution_count": null,
   "metadata": {},
   "outputs": [],
   "source": [
    "height = int(input('Enter height (in cm): '))\n",
    "height"
   ]
  },
  {
   "cell_type": "code",
   "execution_count": null,
   "metadata": {},
   "outputs": [],
   "source": [
    "length = int(input('Enter length (in cm): '))\n",
    "length"
   ]
  },
  {
   "cell_type": "code",
   "execution_count": null,
   "metadata": {},
   "outputs": [],
   "source": [
    "if width < 15 and height < 15 and length < 15:\n",
    "    print('Box number 1')\n",
    "elif 15 < width <= 50 or 15 < height <= 50 or 15 < length <= 50:\n",
    "    print('Box number 2')\n",
    "elif length > 200:\n",
    "    print('Package for skis')\n",
    "else:\n",
    "    print('Standard box number 3')"
   ]
  },
  {
   "cell_type": "code",
   "execution_count": null,
   "metadata": {},
   "outputs": [],
   "source": []
  }
 ]
}