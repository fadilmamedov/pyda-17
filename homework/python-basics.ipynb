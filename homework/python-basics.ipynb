{
 "metadata": {
  "language_info": {
   "codemirror_mode": {
    "name": "ipython",
    "version": 3
   },
   "file_extension": ".py",
   "mimetype": "text/x-python",
   "name": "python",
   "nbconvert_exporter": "python",
   "pygments_lexer": "ipython3",
   "version": "3.8.5-final"
  },
  "orig_nbformat": 2,
  "kernelspec": {
   "name": "python3",
   "display_name": "Python 3",
   "language": "python"
  }
 },
 "nbformat": 4,
 "nbformat_minor": 2,
 "cells": [
  {
   "source": [
    "### Task 1"
   ],
   "cell_type": "markdown",
   "metadata": {}
  },
  {
   "cell_type": "code",
   "execution_count": 18,
   "metadata": {},
   "outputs": [],
   "source": [
    "phrase_1 = input('Input first phrase: ')"
   ]
  },
  {
   "cell_type": "code",
   "execution_count": 19,
   "metadata": {},
   "outputs": [],
   "source": [
    "phrase_2 = input('Input second phrase: ')"
   ]
  },
  {
   "cell_type": "code",
   "execution_count": 20,
   "metadata": {},
   "outputs": [
    {
     "output_type": "stream",
     "name": "stdout",
     "text": [
      "Phrase 1 is longer than phrase 2\n"
     ]
    }
   ],
   "source": [
    "phrase_1_length = len(phrase_1)\n",
    "phrase_2_length = len(phrase_2)\n",
    "\n",
    "if phrase_1_length > phrase_2_length:\n",
    "    print('Phrase 1 is longer than phrase 2')\n",
    "elif phrase_1_length < phrase_2_length:\n",
    "    print('Phrase 2 is longer than phrase 1')\n",
    "else:\n",
    "    print('Phrases have same length')"
   ]
  }
 ]
}