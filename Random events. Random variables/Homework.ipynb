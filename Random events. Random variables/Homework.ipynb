{
 "cells": [
  {
   "cell_type": "code",
   "execution_count": 12,
   "metadata": {},
   "outputs": [],
   "source": [
    "import numpy as np"
   ]
  },
  {
   "cell_type": "code",
   "execution_count": 45,
   "metadata": {},
   "outputs": [
    {
     "name": "stdout",
     "output_type": "stream",
     "text": [
      "800799\n"
     ]
    }
   ],
   "source": [
    "budget = 1000000\n",
    "earnings = 0\n",
    "\n",
    "def get_prize_value(number):\n",
    "  if number == 777:\n",
    "    return 200\n",
    "  \n",
    "  if number == 999:\n",
    "    return 100\n",
    "  \n",
    "  if number == 555:\n",
    "    return 50\n",
    "  \n",
    "  if number == 333:\n",
    "    return 15\n",
    "  \n",
    "  if number == 111:\n",
    "    return 10\n",
    "  \n",
    "  if number % 100 == 77:\n",
    "    return 5\n",
    "  \n",
    "  if number % 10 == 7:\n",
    "    return 3\n",
    "  \n",
    "  if number % 100 == 0:\n",
    "    return 2\n",
    "  \n",
    "  if number % 10 == 0:\n",
    "    return 1\n",
    "  \n",
    "  return 0\n",
    "  \n",
    "\n",
    "for i in range(budget):\n",
    "  number = np.random.randint(0, 1000)\n",
    "  \n",
    "  prize_value = get_prize_value(number)\n",
    "  \n",
    "  earnings += prize_value\n",
    "  \n",
    "print(earnings)"
   ]
  },
  {
   "cell_type": "markdown",
   "metadata": {},
   "source": [
    "##### На процессе моделирования мы видим, что вложив 1,000,000 рублей игрок зарабатывает около 800,000 рублей, или другими словами, проигрывает около 200,000 рублей. Вывод: игра не выгодна игроку. На каждый вложенный рубль игрок теряет 20 копеек"
   ]
  },
  {
   "cell_type": "markdown",
   "metadata": {},
   "source": [
    "#### Теоретический расчет"
   ]
  },
  {
   "cell_type": "code",
   "execution_count": 4,
   "metadata": {},
   "outputs": [
    {
     "data": {
      "text/plain": [
       "0.798"
      ]
     },
     "execution_count": 4,
     "metadata": {},
     "output_type": "execute_result"
    }
   ],
   "source": [
    "p_777 = 0.001 * 200\n",
    "p_999 = 0.001 * 100\n",
    "p_555 = 0.001 * 50\n",
    "p_333 = 0.001 * 15\n",
    "p_111 = 0.001 * 10\n",
    "p__77 = 0.009 * 5\n",
    "p___7 = 0.09  * 3\n",
    "p__00 = 0.009 * 2\n",
    "p___0 = 0.09  * 1\n",
    "\n",
    "p = p_777 + p_999 + p_555 + p_333 + p_111 + p__77 + p___7 + p__00 + p___0\n",
    "p"
   ]
  }
 ],
 "metadata": {
  "kernelspec": {
   "display_name": "Python 3",
   "language": "python",
   "name": "python3"
  },
  "language_info": {
   "codemirror_mode": {
    "name": "ipython",
    "version": 3
   },
   "file_extension": ".py",
   "mimetype": "text/x-python",
   "name": "python",
   "nbconvert_exporter": "python",
   "pygments_lexer": "ipython3",
   "version": "3.9.1"
  }
 },
 "nbformat": 4,
 "nbformat_minor": 4
}
