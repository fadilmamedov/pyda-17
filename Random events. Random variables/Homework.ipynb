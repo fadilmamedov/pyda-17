{
 "cells": [
  {
   "cell_type": "code",
   "execution_count": 12,
   "metadata": {},
   "outputs": [],
   "source": [
    "import numpy as np"
   ]
  },
  {
   "cell_type": "code",
   "execution_count": 45,
   "metadata": {},
   "outputs": [
    {
     "name": "stdout",
     "output_type": "stream",
     "text": [
      "800799\n"
     ]
    }
   ],
   "source": [
    "budget = 1000000\n",
    "earnings = 0\n",
    "\n",
    "def get_prize_value(number):\n",
    "  if number == 777:\n",
    "    return 200\n",
    "  \n",
    "  if number == 999:\n",
    "    return 100\n",
    "  \n",
    "  if number == 555:\n",
    "    return 50\n",
    "  \n",
    "  if number == 333:\n",
    "    return 15\n",
    "  \n",
    "  if number == 111:\n",
    "    return 10\n",
    "  \n",
    "  if number % 100 == 77:\n",
    "    return 5\n",
    "  \n",
    "  if number % 10 == 7:\n",
    "    return 3\n",
    "  \n",
    "  if number % 100 == 0:\n",
    "    return 2\n",
    "  \n",
    "  if number % 10 == 0:\n",
    "    return 1\n",
    "  \n",
    "  return 0\n",
    "  \n",
    "\n",
    "for i in range(budget):\n",
    "  number = np.random.randint(0, 1000)\n",
    "  \n",
    "  prize_value = get_prize_value(number)\n",
    "  \n",
    "  earnings += prize_value\n",
    "  \n",
    "print(earnings)"
   ]
  },
  {
   "cell_type": "markdown",
   "metadata": {},
   "source": [
    "##### На процессе моделирования мы видим, что вложив 1,000,000 рублей игрок зарабатывает около 800,000 рублей, или другими словами, проигрывает около 200,000 рублей. Вывод: игра не выгодна игроку. На каждый вложенный рубль игрок теряет 20 копеек"
   ]
  }
 ],
 "metadata": {
  "kernelspec": {
   "display_name": "Python 3",
   "language": "python",
   "name": "python3"
  },
  "language_info": {
   "codemirror_mode": {
    "name": "ipython",
    "version": 3
   },
   "file_extension": ".py",
   "mimetype": "text/x-python",
   "name": "python",
   "nbconvert_exporter": "python",
   "pygments_lexer": "ipython3",
   "version": "3.9.1"
  }
 },
 "nbformat": 4,
 "nbformat_minor": 4
}
