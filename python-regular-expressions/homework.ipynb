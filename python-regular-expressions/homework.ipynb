{
 "cells": [
  {
   "cell_type": "code",
   "execution_count": 1,
   "metadata": {},
   "outputs": [],
   "source": [
    "import re"
   ]
  },
  {
   "cell_type": "markdown",
   "metadata": {},
   "source": [
    "### Задание 1"
   ]
  },
  {
   "cell_type": "markdown",
   "metadata": {},
   "source": [
    "Напишите функцию, которая принимает на вход строку и проверяет является ли она валидным транспортным номером (1 буква, 3 цифры, 2 буквы, 2-3 цифры). Обратите внимание, что не все буквы кириллического алфавита используются в транспортных номерах.\n",
    "\n",
    "Если номер валиден, то функция должна возвращать отдельно номер и регион."
   ]
  },
  {
   "cell_type": "code",
   "execution_count": 28,
   "metadata": {},
   "outputs": [],
   "source": [
    "def validate_car_id(car_id):\n",
    "  regex = r'^([А,В,Е,К,М,Н,О,Р,С,Т,У,Х]\\d{3}[А,В,Е,К,М,Н,О,Р,С,Т,У,Х]{2})(\\d{2,3})$';\n",
    "  match = re.match(regex, car_id)\n",
    "  \n",
    "  if match:\n",
    "    number = match.group(1)\n",
    "    region = match.group(2)\n",
    "    return (number, region)\n",
    "\n",
    "  return False"
   ]
  },
  {
   "cell_type": "code",
   "execution_count": 32,
   "metadata": {},
   "outputs": [
    {
     "name": "stdout",
     "output_type": "stream",
     "text": [
      "Номер А222ВС валиден. Регион: 96\n"
     ]
    }
   ],
   "source": [
    "car_id = 'А222ВС96'\n",
    "result = validate_car_id(car_id)\n",
    "if result:\n",
    "  number, region = result\n",
    "  print(f'Номер {number} валиден. Регион: {region}')\n",
    "else:\n",
    "  print('Номер не валиден')"
   ]
  },
  {
   "cell_type": "code",
   "execution_count": 34,
   "metadata": {},
   "outputs": [
    {
     "name": "stdout",
     "output_type": "stream",
     "text": [
      "Номер не валиден\n"
     ]
    }
   ],
   "source": [
    "car_id = 'АБ22ВВ193'\n",
    "result = validate_car_id(car_id)\n",
    "if result:\n",
    "  number, region = result\n",
    "  print(f'Номер {number} валиден. Регион: {region}')\n",
    "else:\n",
    "  print('Номер не валиден')"
   ]
  },
  {
   "cell_type": "markdown",
   "metadata": {},
   "source": [
    "### Задание 2"
   ]
  },
  {
   "cell_type": "markdown",
   "metadata": {},
   "source": [
    "Напишите функцию, которая будет удалять все последовательные повторы слов из заданной строки при помощи регулярных выражений."
   ]
  },
  {
   "cell_type": "code",
   "execution_count": 73,
   "metadata": {},
   "outputs": [],
   "source": [
    "def remove_repeated_words(source_string):\n",
    "  return re.sub(r'(\\w+)(\\s\\1)+', r'\\1', source_string)"
   ]
  },
  {
   "cell_type": "code",
   "execution_count": 74,
   "metadata": {},
   "outputs": [
    {
     "data": {
      "text/plain": [
       "'Напишите функцию, которая будет удалять все последовательные повторы слов из заданной строки при помощи регулярных выражений.'"
      ]
     },
     "execution_count": 74,
     "metadata": {},
     "output_type": "execute_result"
    }
   ],
   "source": [
    "some_string = 'Напишите функцию функцию, которая будет будет будет будет удалять все все все все последовательные повторы слов из из из из заданной строки строки при помощи регулярных выражений.'\n",
    "remove_repeated_words(some_string)"
   ]
  },
  {
   "cell_type": "markdown",
   "metadata": {},
   "source": [
    "### Задание 3"
   ]
  },
  {
   "cell_type": "markdown",
   "metadata": {},
   "source": [
    "Напишите функцию, которая будет возвращать акроним по переданной в нее строке со словами."
   ]
  },
  {
   "cell_type": "code",
   "execution_count": 98,
   "metadata": {},
   "outputs": [],
   "source": [
    "def get_acronym(source_string):\n",
    "  words = re.findall(r'(?:(\\w)\\w*)\\b', source_string)\n",
    "  return ''.join(words).upper()"
   ]
  },
  {
   "cell_type": "code",
   "execution_count": 99,
   "metadata": {},
   "outputs": [
    {
     "data": {
      "text/plain": [
       "'NFC'"
      ]
     },
     "execution_count": 99,
     "metadata": {},
     "output_type": "execute_result"
    }
   ],
   "source": [
    "get_acronym('Near Field Communication')"
   ]
  },
  {
   "cell_type": "code",
   "execution_count": 100,
   "metadata": {},
   "outputs": [
    {
     "data": {
      "text/plain": [
       "'ИТ'"
      ]
     },
     "execution_count": 100,
     "metadata": {},
     "output_type": "execute_result"
    }
   ],
   "source": [
    "get_acronym('Информационные технологии')"
   ]
  },
  {
   "cell_type": "markdown",
   "metadata": {},
   "source": [
    "### Задание 4"
   ]
  },
  {
   "cell_type": "markdown",
   "metadata": {},
   "source": [
    "Напишите функцию, которая будет принимать на вход список email-адресов и выводить их распределение по доменным зонам."
   ]
  },
  {
   "cell_type": "code",
   "execution_count": 110,
   "metadata": {},
   "outputs": [],
   "source": [
    "def get_email_domain_map(emails):\n",
    "  result = {}\n",
    "  \n",
    "  for email in emails:\n",
    "    search = re.search(r'\\w+\\.\\w{2,}$', email)\n",
    "    domain = search.group()\n",
    "    \n",
    "    result.setdefault(domain, 0)\n",
    "    result[domain] += 1\n",
    "    \n",
    "  return result"
   ]
  },
  {
   "cell_type": "code",
   "execution_count": 111,
   "metadata": {},
   "outputs": [
    {
     "data": {
      "text/plain": [
       "{'gmail.com': 2, 'test.in': 1, 'ya.ru': 2, 'mail.ru': 1}"
      ]
     },
     "execution_count": 111,
     "metadata": {},
     "output_type": "execute_result"
    }
   ],
   "source": [
    "emails = ['test@gmail.com', 'xyz@test.in', 'test@ya.ru', 'xyz@mail.ru', 'xyz@ya.ru', 'xyz@gmail.com']\n",
    "get_email_domain_map(emails)"
   ]
  },
  {
   "cell_type": "markdown",
   "metadata": {},
   "source": [
    "### Задание 5"
   ]
  },
  {
   "cell_type": "markdown",
   "metadata": {},
   "source": [
    "Напишите функцию, которая будет подсчитывать сколько слов начинается на гласные, а сколько на согласные буквы в тексте (текст может быть написан как с использованием букв кириллицы, так и латиницы)."
   ]
  },
  {
   "cell_type": "code",
   "execution_count": 149,
   "metadata": {},
   "outputs": [],
   "source": [
    "def get_letter_statistic(source_string):\n",
    "  vowel_count = 0\n",
    "  consonant_count = 0\n",
    "  \n",
    "  vowel_regex = r'[aeiouаеиоуыэ-я]'\n",
    "  consonant_regex = r'[b-df-hj-np-tv-zб-дж-зй-нп-тф-щ]'\n",
    "  \n",
    "  letters = re.findall(r'(?:(\\w)\\w*)\\b', source_string)\n",
    "  for letter in letters:\n",
    "    if re.match(vowel_regex, letter, flags = re.IGNORECASE):\n",
    "      vowel_count += 1\n",
    "    elif re.match(consonant_regex, letter, flags = re.IGNORECASE):\n",
    "      consonant_count += 1\n",
    "      \n",
    "  return (vowel_count, consonant_count)"
   ]
  },
  {
   "cell_type": "code",
   "execution_count": 152,
   "metadata": {},
   "outputs": [
    {
     "name": "stdout",
     "output_type": "stream",
     "text": [
      "Слов на гласные буквы: 9\n",
      "Слов на согласные буквы: 21\n"
     ]
    }
   ],
   "source": [
    "some_text = 'Эталонной реализацией Python является интерпретатор CPython, поддерживающий большинство активно используемых платформ. Он распространяется под свободной лицензией Python Software Foundation License, позволяющей использовать его без ограничений в любых приложениях, включая проприетарные.'\n",
    "vowel_count, consonant_count = get_letter_statistic(some_text)\n",
    "\n",
    "print(f'Слов на гласные буквы: {vowel_count}')\n",
    "print(f'Слов на согласные буквы: {consonant_count}')"
   ]
  },
  {
   "cell_type": "markdown",
   "metadata": {},
   "source": [
    "### Задание 6"
   ]
  },
  {
   "cell_type": "markdown",
   "metadata": {},
   "source": [
    "Напишите функцию, которая будет проверять номер сотового телефона на валидность (только для российского формата), если он валиден, то переводить его в формат:\n",
    "\n",
    "`+7-xxx-xxx-xx-xx`\n",
    "\n",
    "Постарайтесь предусмотреть как можно больше адекватных форматов изначального ввода номера. Примеры работы программы:"
   ]
  },
  {
   "cell_type": "code",
   "execution_count": 180,
   "metadata": {},
   "outputs": [],
   "source": [
    "def format_phone_number(phone_number):\n",
    "  valid_formats = [\n",
    "    # +7 955 555-55-55\n",
    "    r'\\+\\d\\s(\\d{3})\\s(\\d{3})-(\\d{2})-(\\d{2})',\n",
    "    # 8(955)555-55-55\n",
    "    r'8\\((\\d{3})\\)(\\d{3})-(\\d{2})-(\\d{2})',\n",
    "    # +7 955 555 55 55\n",
    "    r'\\+7\\s(\\d{3})\\s(\\d{3})\\s(\\d{2})\\s(\\d{2})',\n",
    "    # 7(955) 555-55-55\n",
    "    r'7\\((\\d{3})\\)\\s(\\d{3})-(\\d{2})-(\\d{2})'\n",
    "  ]\n",
    "  \n",
    "  for valid_format in valid_formats:\n",
    "    match = re.match(valid_format, phone_number)\n",
    "    if match:\n",
    "      return f'+7-{match.group(1)}-{match.group(2)}-{match.group(3)}-{match.group(4)}'\n",
    "    \n",
    "  return 'Номер не валиден'"
   ]
  },
  {
   "cell_type": "code",
   "execution_count": 181,
   "metadata": {},
   "outputs": [
    {
     "data": {
      "text/plain": [
       "'+7-955-555-55-55'"
      ]
     },
     "execution_count": 181,
     "metadata": {},
     "output_type": "execute_result"
    }
   ],
   "source": [
    "format_phone_number('+7 955 555-55-55')"
   ]
  },
  {
   "cell_type": "code",
   "execution_count": 182,
   "metadata": {},
   "outputs": [
    {
     "data": {
      "text/plain": [
       "'+7-955-555-55-55'"
      ]
     },
     "execution_count": 182,
     "metadata": {},
     "output_type": "execute_result"
    }
   ],
   "source": [
    "format_phone_number('8(955)555-55-55')"
   ]
  },
  {
   "cell_type": "code",
   "execution_count": 183,
   "metadata": {},
   "outputs": [
    {
     "data": {
      "text/plain": [
       "'+7-955-555-55-55'"
      ]
     },
     "execution_count": 183,
     "metadata": {},
     "output_type": "execute_result"
    }
   ],
   "source": [
    "format_phone_number('+7 955 555 55 55')"
   ]
  },
  {
   "cell_type": "code",
   "execution_count": 184,
   "metadata": {},
   "outputs": [
    {
     "data": {
      "text/plain": [
       "'+7-955-555-55-55'"
      ]
     },
     "execution_count": 184,
     "metadata": {},
     "output_type": "execute_result"
    }
   ],
   "source": [
    "format_phone_number('7(955) 555-55-55')"
   ]
  },
  {
   "cell_type": "code",
   "execution_count": 185,
   "metadata": {},
   "outputs": [
    {
     "data": {
      "text/plain": [
       "'Номер не валиден'"
      ]
     },
     "execution_count": 185,
     "metadata": {},
     "output_type": "execute_result"
    }
   ],
   "source": [
    "format_phone_number('423-555-55-5555')"
   ]
  },
  {
   "cell_type": "code",
   "execution_count": 186,
   "metadata": {},
   "outputs": [
    {
     "data": {
      "text/plain": [
       "'Номер не валиден'"
      ]
     },
     "execution_count": 186,
     "metadata": {},
     "output_type": "execute_result"
    }
   ],
   "source": [
    "format_phone_number('123-456-789')"
   ]
  },
  {
   "cell_type": "code",
   "execution_count": null,
   "metadata": {},
   "outputs": [],
   "source": []
  }
 ],
 "metadata": {
  "kernelspec": {
   "display_name": "Python 3",
   "language": "python",
   "name": "python3"
  },
  "language_info": {
   "codemirror_mode": {
    "name": "ipython",
    "version": 3
   },
   "file_extension": ".py",
   "mimetype": "text/x-python",
   "name": "python",
   "nbconvert_exporter": "python",
   "pygments_lexer": "ipython3",
   "version": "3.9.1"
  }
 },
 "nbformat": 4,
 "nbformat_minor": 4
}
